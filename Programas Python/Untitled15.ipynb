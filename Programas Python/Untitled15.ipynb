{
 "cells": [
  {
   "cell_type": "code",
   "execution_count": 15,
   "metadata": {},
   "outputs": [
    {
     "name": "stdout",
     "output_type": "stream",
     "text": [
      "9\n"
     ]
    }
   ],
   "source": [
    "a = \"0123456789\"\n",
    "i = 1\n",
    "print(a[len(a)-i:len(a)])\n"
   ]
  },
  {
   "cell_type": "code",
   "execution_count": 12,
   "metadata": {},
   "outputs": [
    {
     "name": "stdout",
     "output_type": "stream",
     "text": [
      "papapapap\n",
      "p - p\n",
      "True\n",
      "pa - ap\n",
      "pap - pap\n",
      "True\n",
      "papa - apap\n",
      "papap - papap\n",
      "True\n",
      "papapa - apapap\n",
      "papapap - papapap\n",
      "False\n",
      "papapapa - apapapap\n",
      "papap\n"
     ]
    }
   ],
   "source": [
    "def Password(s):\n",
    "    respuesta = \"\"\n",
    "    for i in range(1,len(s)):\n",
    "        if (s[i-1] != s[len(s)-1]) or (s[0]!=s[len(s)-i]):\n",
    "            continue\n",
    "        prefix = s[0:i]\n",
    "        suffix = s[len(s)-i:len(s)]\n",
    "        print(prefix + \" - \" + suffix)\n",
    "        if prefix!=suffix:\n",
    "            continue\n",
    "        obelix = prefix in s[1:len(s)-1]\n",
    "        print(obelix)\n",
    "        if not obelix:\n",
    "            continue\n",
    "        respuesta = prefix\n",
    "    if len(respuesta)<1:\n",
    "        return \"Just a legend\"\n",
    "    return respuesta\n",
    "            \n",
    "s = input()\n",
    "print(Password(s))"
   ]
  },
  {
   "cell_type": "code",
   "execution_count": null,
   "metadata": {},
   "outputs": [],
   "source": []
  },
  {
   "cell_type": "code",
   "execution_count": null,
   "metadata": {},
   "outputs": [],
   "source": []
  }
 ],
 "metadata": {
  "kernelspec": {
   "display_name": "Python 3",
   "language": "python",
   "name": "python3"
  },
  "language_info": {
   "codemirror_mode": {
    "name": "ipython",
    "version": 3
   },
   "file_extension": ".py",
   "mimetype": "text/x-python",
   "name": "python",
   "nbconvert_exporter": "python",
   "pygments_lexer": "ipython3",
   "version": "3.6.5"
  }
 },
 "nbformat": 4,
 "nbformat_minor": 2
}
