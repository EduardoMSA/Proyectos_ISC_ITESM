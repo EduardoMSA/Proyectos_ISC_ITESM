{
 "cells": [
  {
   "cell_type": "code",
   "execution_count": null,
   "metadata": {},
   "outputs": [],
   "source": [
    "def updatePrecios(p,precios):\n",
    "    precios[0]=p[0]\n",
    "    for i in range(1,len(p)):\n",
    "        precios[i]=(precios[i-1]*p[i])\n",
    "\n",
    "\n",
    "n = int(input())\n",
    "p = list(map(float,input().split()))\n",
    "precios = [1.0]*len(p)\n",
    "updatePrecios(p,precios)\n",
    "print(precios)\n",
    "nq = int(input())\n",
    "saldo = 0\n",
    "for i in range(nq):\n",
    "    q = (input().split())\n",
    "    print(q)\n",
    "    if q[0] == '1':\n",
    "        p[int(q[1])-1] = float(q[2])\n",
    "        updatePrecios(p,precios)\n",
    "        print(p)\n",
    "        print(precios)\n",
    "        \n",
    "    \n",
    "\n",
    "\n"
   ]
  },
  {
   "cell_type": "code",
   "execution_count": null,
   "metadata": {},
   "outputs": [],
   "source": []
  },
  {
   "cell_type": "code",
   "execution_count": null,
   "metadata": {},
   "outputs": [],
   "source": []
  }
 ],
 "metadata": {
  "kernelspec": {
   "display_name": "Python 3",
   "language": "python",
   "name": "python3"
  },
  "language_info": {
   "codemirror_mode": {
    "name": "ipython",
    "version": 3
   },
   "file_extension": ".py",
   "mimetype": "text/x-python",
   "name": "python",
   "nbconvert_exporter": "python",
   "pygments_lexer": "ipython3",
   "version": "3.6.5"
  }
 },
 "nbformat": 4,
 "nbformat_minor": 2
}
