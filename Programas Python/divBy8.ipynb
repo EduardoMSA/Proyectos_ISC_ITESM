{
 "cells": [
  {
   "cell_type": "code",
   "execution_count": null,
   "metadata": {},
   "outputs": [],
   "source": [
    "import mathdef divBy8(num):\n",
    "    for i in range (len(num)):\n",
    "        if num[i]=='8' or num[i]=='0':\n",
    "            return [\"YES\",num[i]]\n",
    "        for j in range(i+1,len(num)):\n",
    "            a = int(num[i]) * 10 + int(num[j])\n",
    "            if a%8 == 0:\n",
    "                return [\"YES\",a]\n",
    "            for k in range(j+1,len(num)):\n",
    "                b = int(num[i])*100 + int(num[j]) * 10 + int(num[k]);\n",
    "                if b%8==0:\n",
    "                    return [\"YES\",b]\n",
    "                \n",
    "    return [\"NO\"]\n",
    "a = input()\n",
    "b = divBy8(a)\n",
    "for i in b:\n",
    "    print(i)"
   ]
  },
  {
   "cell_type": "code",
   "execution_count": null,
   "metadata": {},
   "outputs": [],
   "source": []
  },
  {
   "cell_type": "code",
   "execution_count": null,
   "metadata": {},
   "outputs": [],
   "source": []
  }
 ],
 "metadata": {
  "kernelspec": {
   "display_name": "Python 3",
   "language": "python",
   "name": "python3"
  },
  "language_info": {
   "codemirror_mode": {
    "name": "ipython",
    "version": 3
   },
   "file_extension": ".py",
   "mimetype": "text/x-python",
   "name": "python",
   "nbconvert_exporter": "python",
   "pygments_lexer": "ipython3",
   "version": "3.6.5"
  }
 },
 "nbformat": 4,
 "nbformat_minor": 2
}
