{
 "cells": [
  {
   "cell_type": "code",
   "execution_count": 9,
   "metadata": {},
   "outputs": [
    {
     "name": "stdout",
     "output_type": "stream",
     "text": [
      "5\n",
      "1 1.5 0.66 2.0 0.1\n",
      "[[1, 1.5, 0.99, 1.98, 0.198], [1, 1, 0.66, 1.32, 0.132], [1, 1, 1, 2.0, 0.2], [1, 1, 1, 1, 0.1], [1, 1, 1, 1, 1]]\n"
     ]
    }
   ],
   "source": [
    "n = int(input())\n",
    "p = list(map(float,input().split()))\n",
    "#nq = int(input())\n",
    "dq = [[1 for x in range(n)]for y in range(n)]\n",
    "#dq[0] = p\n",
    "for i in range(n):\n",
    "    for j in range(i+1,n):\n",
    "        if (j-1)>=0:\n",
    "            dq[i][j]=dq[i][j-1]*p[j]\n",
    "        else:\n",
    "            dq[i][j]=p[j]\n",
    "p[0]=2\n",
    "print(dq)\n",
    "\n",
    "        \n",
    "    "
   ]
  },
  {
   "cell_type": "code",
   "execution_count": 6,
   "metadata": {},
   "outputs": [
    {
     "name": "stdout",
     "output_type": "stream",
     "text": [
      "[[2, 2, 3, 4, 5], [0, 0, 0, 0, 0], [0, 0, 0, 0, 0], [0, 0, 0, 0, 0], [0, 0, 0, 0, 0]]\n"
     ]
    }
   ],
   "source": [
    "a = [[0 for x in range(5)] for y in range(5)] \n",
    "b = [1,2,3,4,5]\n",
    "a[0]=b\n",
    "b[0]=2\n",
    "print(a)"
   ]
  },
  {
   "cell_type": "code",
   "execution_count": null,
   "metadata": {},
   "outputs": [],
   "source": [
    "for i in range(nq):\n",
    "    q = (input().split())\n",
    "    if q[0] == '1':\n",
    "        p[int(q[1])-1] = float(q[2])\n",
    "    else:\n",
    "        cuenta = p[int(q[1])-1]\n",
    "        for i in range(int(q[1]),int(q[2])):\n",
    "            cuenta*=p[i]\n",
    "        if cuenta <2**100:\n",
    "            print(cuenta)\n",
    "        else:\n",
    "            print(\"INFINITE!\")\n",
    "        "
   ]
  }
 ],
 "metadata": {
  "kernelspec": {
   "display_name": "Python 3",
   "language": "python",
   "name": "python3"
  },
  "language_info": {
   "codemirror_mode": {
    "name": "ipython",
    "version": 3
   },
   "file_extension": ".py",
   "mimetype": "text/x-python",
   "name": "python",
   "nbconvert_exporter": "python",
   "pygments_lexer": "ipython3",
   "version": "3.6.5"
  }
 },
 "nbformat": 4,
 "nbformat_minor": 2
}
