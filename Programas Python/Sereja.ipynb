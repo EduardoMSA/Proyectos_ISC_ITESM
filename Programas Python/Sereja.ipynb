{
 "cells": [
  {
   "cell_type": "code",
   "execution_count": null,
   "metadata": {},
   "outputs": [],
   "source": [
    "def sns(a,b):\n",
    "    result= []\n",
    "    for i in b:\n",
    "        tmp = a[i-1:]\n",
    "        tmp2 = []\n",
    "        for x in tmp:\n",
    "            if x not in tmp2:\n",
    "                tmp2.append(x)\n",
    "        result.append(len(tmp2))\n",
    "    return result\n",
    "\n",
    "\n",
    "a = input()\n",
    "b = input()\n",
    "\n",
    "lista1 = a.split()\n",
    "lista2 = b.split()\n",
    "lista2i = [int(i) for i in lista2]\n",
    "lista3=[]\n",
    "for i in range(int(lista1[1])):\n",
    "    lista3.append(int(input()))\n",
    "\n",
    "for i in sns(lista2i,lista3):\n",
    "    print(i)\n",
    "\n",
    "    \n",
    "    "
   ]
  },
  {
   "cell_type": "code",
   "execution_count": null,
   "metadata": {},
   "outputs": [],
   "source": []
  }
 ],
 "metadata": {
  "kernelspec": {
   "display_name": "Python 3",
   "language": "python",
   "name": "python3"
  },
  "language_info": {
   "codemirror_mode": {
    "name": "ipython",
    "version": 3
   },
   "file_extension": ".py",
   "mimetype": "text/x-python",
   "name": "python",
   "nbconvert_exporter": "python",
   "pygments_lexer": "ipython3",
   "version": "3.6.5"
  }
 },
 "nbformat": 4,
 "nbformat_minor": 2
}
