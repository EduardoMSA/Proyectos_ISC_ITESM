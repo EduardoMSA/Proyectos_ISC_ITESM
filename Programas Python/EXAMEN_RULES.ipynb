{
 "cells": [
  {
   "cell_type": "markdown",
   "metadata": {},
   "source": [
    "General RULES:\n",
    "   -  no use of python built-in libraries like: sorted, reversed, in, sqrt, pandas mean median or any other.\n",
    "   - HONOR CODE = NO COPY*, NO INTERNET**\n",
    "Si se sorprende a alguien copiando o pasando información será reprobado."
   ]
  },
  {
   "cell_type": "code",
   "execution_count": null,
   "metadata": {},
   "outputs": [],
   "source": [
    "El examen consiste de dos partes:\n",
    "    Teórica (max. 70%)\n",
    "    Práctica (30%) si todo bien, 15% si casi bien, 0% otherwise\n",
    "    OJO* cuidar las excepciones, argumentos de entrada no permitidos"
   ]
  },
  {
   "cell_type": "markdown",
   "metadata": {},
   "source": [
    "Problema 1\n",
    "Crea una función que toma una lista de precios desordenados y \n",
    "un valor de precio máximo posible. La función debe retornar una lista de\n",
    "precios ordenados en orden descendente.\n",
    "\n",
    "REQUERIMIENTOS:\n",
    "    Tu función, debe ser capaz de completar esto en tiempo o(nlogn) (little o)\n"
   ]
  },
  {
   "cell_type": "code",
   "execution_count": null,
   "metadata": {},
   "outputs": [],
   "source": [
    "Problema 2.\n",
    "Encuentra la raíz cuadrada redondeada hacia abajo al entero más cercano,\n",
    "sin usar la función sqrt.\n",
    "\n"
   ]
  },
  {
   "cell_type": "code",
   "execution_count": null,
   "metadata": {},
   "outputs": [],
   "source": [
    "El banco Mexa tiene una política simple para advertir a los clientes\n",
    "sobre una posible actividad de cuenta fraudulenta.\n",
    "Si el monto gastado por un cliente en un día en particular es mayor o igual \n",
    "a 2 veces gasto medio del cliente por un número \"d\" de días  anterior, le envía al cliente \n",
    "una notificación sobre un posible fraude.\n",
    "El banco no envía al cliente ninguna notificación hasta que tenga al menos\n",
    "ese número de datos de transacciones de los \"d\" días anteriores.\n",
    "Dado el número de días \"d\" y los gastos diarios totales de un cliente por\n",
    "un período, encuentre e imprima la cantidad de veces que el cliente\n",
    "recibirá una notificación durante todos los días.\n",
    "\n",
    "Por ejemplo d=3 y los gastos=[10,20,30,40,50] En los primeros tres días, \n",
    "solo recopilan datos de gastos. En el día 4, tenemos gastos anteriors\n",
    "de [10,20,30]. La mediana es 20 y el gasto del día es 40. Como 40>=20, \n",
    "habrá un aviso.\n",
    "Al día siguiente, nuestros gastos anteriors son [20,30,40]\n",
    "y el gasto del día es 50\n",
    "Esto es menos que 2 x 30 por lo que no se enviará ningún aviso. \n",
    "Durante el período, se envió un aviso.\n",
    "\n",
    "Nota: la mediana de una lista de números se puede encontrar ordenando\n",
    "    todos los números del más pequeño al más grande. \n",
    "    Si hay una cantidad impar de números, se elige la del medio. \n",
    "    Si hay un número par de números, la mediana se define como el promedio \n",
    "    de los dos valores medios."
   ]
  }
 ],
 "metadata": {
  "kernelspec": {
   "display_name": "Python 3",
   "language": "python",
   "name": "python3"
  },
  "language_info": {
   "codemirror_mode": {
    "name": "ipython",
    "version": 3
   },
   "file_extension": ".py",
   "mimetype": "text/x-python",
   "name": "python",
   "nbconvert_exporter": "python",
   "pygments_lexer": "ipython3",
   "version": "3.6.5"
  }
 },
 "nbformat": 4,
 "nbformat_minor": 2
}
