{
 "cells": [
  {
   "cell_type": "code",
   "execution_count": 346,
   "metadata": {},
   "outputs": [],
   "source": [
    "import random"
   ]
  },
  {
   "cell_type": "code",
   "execution_count": 347,
   "metadata": {},
   "outputs": [],
   "source": [
    "#maximo comun divisor\n",
    "def gcd(a,b):\n",
    "    while(b != 0):\n",
    "        tmp = a%b\n",
    "        a = b\n",
    "        b = tmp\n",
    "    return a\n",
    "\n",
    "#Inverso Modular\n",
    "def modInv(a,b):\n",
    "    for i in range(1,b):\n",
    "        if (a*i)%b == 1:\n",
    "            return i\n",
    "    return None\n"
   ]
  },
  {
   "cell_type": "code",
   "execution_count": 348,
   "metadata": {},
   "outputs": [],
   "source": [
    "#Se obtienen la llave publica y ls privada\n",
    "class keys:\n",
    "    def __init__(self,p,q):\n",
    "        self.p = p #Numero primo\n",
    "        self.q = q #Numero primo diferente a p\n",
    "        self.n = p*q\n",
    "        self.phi = (self.p-1)*(self.q-1)\n",
    "        self.e = self.getE2()\n",
    "        #self.e = self.getE()\n",
    "        self.d = modInv(self.e,self.phi) #Llave privada\n",
    "        self.pK = (self.n,self.e) #Llave publica\n",
    "    \n",
    "    #Obtiene el primer valor entre 2 y phi que no es factor de n\n",
    "    def getE(self):\n",
    "        for x in range(2, self.phi):\n",
    "            if gcd(self.phi, x) == 1 and modInv(x,self.phi) != None:\n",
    "                return x\n",
    "    \n",
    "    #Obtiene un valor aleatorio entre 2 y Phi que no es factor de n\n",
    "    def getE2(self):\n",
    "        #Se obtiene una lista con todos los numeros coprimos a phi\n",
    "        l = []\n",
    "        for x in range(2, self.phi):\n",
    "            if gcd(self.phi, x) == 1 and modInv(x,self.phi) != None:\n",
    "                l.append(x)\n",
    "        for x in l:\n",
    "            if x == modInv(x,self.phi):\n",
    "                l.remove(x)\n",
    "        #Se selecciona un numero aleatorio dentro de la lista de coprimos\n",
    "        return l[random.randint(0,len(l)-1)]"
   ]
  },
  {
   "cell_type": "code",
   "execution_count": 349,
   "metadata": {},
   "outputs": [],
   "source": [
    "#Decripta el mensaje\n",
    "class decryptor:\n",
    "    def __init__(self,privateKey,publicKey,c): #Necesita tanto la llave pribada como la publica\n",
    "        self.d = privateKey\n",
    "        self.pK = publicKey\n",
    "        self.c = c\n",
    "        tmp = self.decryption()\n",
    "        self.message = \"\"\n",
    "        for i in tmp:\n",
    "            self.message+=str(chr(i))\n",
    "        \n",
    "    def decryption(self):\n",
    "        tmp = self.c.copy()\n",
    "        for i in range(len(tmp)):\n",
    "            #print(str(tmp[i])+\"^\"+str(self.d)+\" mod \"+str(self.pK[0]))\n",
    "            tmp[i] = (tmp[i]**self.d)%self.pK[0]\n",
    "        return tmp\n",
    "            \n",
    "        \n",
    "        \n",
    "        "
   ]
  },
  {
   "cell_type": "code",
   "execution_count": 350,
   "metadata": {},
   "outputs": [],
   "source": [
    "class encryptor:\n",
    "    def __init__(self,publicKey,message): #Encripta un mensaje con la llave publica\n",
    "        self.pK = publicKey\n",
    "        self.message = []\n",
    "        for c in message:\n",
    "            self.message.append(ord(c))\n",
    "        self.c = self.encryption()\n",
    "        \n",
    "    def encryption(self):\n",
    "        tmp = self.message.copy()\n",
    "        for i in range(len(tmp)):\n",
    "            #print(str(tmp[i])+\"^\"+str(self.pK[1])+\" mod \"+str(self.pK[0]))\n",
    "            tmp[i] = (tmp[i]**self.pK[1])%self.pK[0]\n",
    "        return tmp\n",
    "                \n",
    "        "
   ]
  },
  {
   "cell_type": "code",
   "execution_count": 351,
   "metadata": {},
   "outputs": [],
   "source": [
    "p = 53\n",
    "q = 59\n",
    "k = keys(p,q)"
   ]
  },
  {
   "cell_type": "code",
   "execution_count": 352,
   "metadata": {},
   "outputs": [
    {
     "name": "stdout",
     "output_type": "stream",
     "text": [
      "Hola\n",
      "-------------------------------------------------------\n",
      "\n",
      "Numeros primos utilizados: 53 y 59\n",
      "\n",
      "Llave pública = (3127, 1349)\n",
      "Llave privada = 901\n",
      "\n",
      "Mensaje encriptado = эݍʐ૵\n",
      "\n",
      "Mensaje decriptado = Hola\n"
     ]
    }
   ],
   "source": [
    "m = input()\n",
    "e = encryptor(k.pK,m)\n",
    "d = decryptor(k.d,k.pK,e.c)\n",
    "print(\"-------------------------------------------------------\")\n",
    "print(\"\\nNumeros primos utilizados: \" + str(p) + \" y \" + str(q))\n",
    "print(\"\\nLlave pública = \" + str(k.pK))\n",
    "print(\"Llave privada = \" + str(k.d))\n",
    "s = \"\"\n",
    "for i in e.c:\n",
    "    s+=str(chr(i))\n",
    "print(\"\\nMensaje encriptado = \" + s)\n",
    "print(\"\\nMensaje decriptado = \" + d.message)"
   ]
  },
  {
   "cell_type": "code",
   "execution_count": null,
   "metadata": {},
   "outputs": [],
   "source": []
  }
 ],
 "metadata": {
  "kernelspec": {
   "display_name": "Python 3",
   "language": "python",
   "name": "python3"
  },
  "language_info": {
   "codemirror_mode": {
    "name": "ipython",
    "version": 3
   },
   "file_extension": ".py",
   "mimetype": "text/x-python",
   "name": "python",
   "nbconvert_exporter": "python",
   "pygments_lexer": "ipython3",
   "version": "3.6.5"
  }
 },
 "nbformat": 4,
 "nbformat_minor": 2
}
