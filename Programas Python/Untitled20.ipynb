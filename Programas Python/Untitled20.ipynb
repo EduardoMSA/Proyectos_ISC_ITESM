{
 "cells": [
  {
   "cell_type": "code",
   "execution_count": 41,
   "metadata": {},
   "outputs": [
    {
     "data": {
      "text/plain": [
       "89"
      ]
     },
     "execution_count": 41,
     "metadata": {},
     "output_type": "execute_result"
    }
   ],
   "source": [
    "def stairwayToHeaven(n):\n",
    "    if n==0:\n",
    "        return 0\n",
    "    T=[None]*(n+1)\n",
    "    T[0]=1\n",
    "    T[1]=1\n",
    "    for i in range(2,n+1):\n",
    "        T[i]=T[i-1]+T[i-2]\n",
    "    return T[n]\n",
    "\n",
    "stairwayToHeaven(10)\n"
   ]
  },
  {
   "cell_type": "code",
   "execution_count": 85,
   "metadata": {},
   "outputs": [
    {
     "name": "stdout",
     "output_type": "stream",
     "text": [
      "[[0, 0, 0, 0, 0], [0, 2, 0, 0, 0], [0, 0, 4, 0, 0], [0, 0, 0, 7, 0], [0, 0, 0, 0, 8]]\n"
     ]
    }
   ],
   "source": [
    "def rodCutter(COSTOS,n):\n",
    "    T=[[0 for x in range(n+1)] for y in range(len(COSTOS))]\n",
    "    c = 1\n",
    "    for i in range(len(COSTOS)):\n",
    "        for j in range(n+1):\n",
    "            if(j-i==0):\n",
    "                T[i][j]=COSTOS[i]\n",
    "            elif(j-i>0):\n",
    "                restante = j-i\n",
    "                maximo=T[0][restante]\n",
    "                for k in range(1,j+1):\n",
    "                    tmp = T[k][restante]\n",
    "                    if(tmp>maximo):\n",
    "                        maximo=tmp\n",
    "    \n",
    "                        \n",
    "                    \n",
    "                \n",
    "                \n",
    "    print(T)\n",
    "\n",
    "    \n",
    "COSTOS=[0,2,4,7,8]\n",
    "rodCutter(COSTOS,4)\n",
    "    \n",
    "    "
   ]
  },
  {
   "cell_type": "code",
   "execution_count": 66,
   "metadata": {},
   "outputs": [
    {
     "data": {
      "text/plain": [
       "462"
      ]
     },
     "execution_count": 66,
     "metadata": {},
     "output_type": "execute_result"
    }
   ],
   "source": [
    "def goHome(m,n):\n",
    "    if m==1 or n==1:\n",
    "        return 1\n",
    "    T=[[0 for x in range(n)] for y in range(m)]\n",
    "    for i in range(n):\n",
    "        T[m-1][i]=1\n",
    "    for i in range(m):\n",
    "        T[i][n-1]=1\n",
    "    for i in range(m-2,-1,-1):\n",
    "        for j in range(n-2,-1,-1):\n",
    "            T[i][j]=(T[i][j+1])+(T[i+1][j])\n",
    "    return T[0][0]\n",
    "\n",
    "goHome(7,6)\n",
    "            \n",
    "            \n",
    "        "
   ]
  },
  {
   "cell_type": "code",
   "execution_count": null,
   "metadata": {},
   "outputs": [],
   "source": []
  }
 ],
 "metadata": {
  "kernelspec": {
   "display_name": "Python 3",
   "language": "python",
   "name": "python3"
  },
  "language_info": {
   "codemirror_mode": {
    "name": "ipython",
    "version": 3
   },
   "file_extension": ".py",
   "mimetype": "text/x-python",
   "name": "python",
   "nbconvert_exporter": "python",
   "pygments_lexer": "ipython3",
   "version": "3.6.5"
  }
 },
 "nbformat": 4,
 "nbformat_minor": 2
}
