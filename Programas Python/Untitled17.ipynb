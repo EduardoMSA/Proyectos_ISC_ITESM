{
 "cells": [
  {
   "cell_type": "code",
   "execution_count": 36,
   "metadata": {},
   "outputs": [
    {
     "name": "stdout",
     "output_type": "stream",
     "text": [
      "2\n",
      "1/2 1/3 1/4\n",
      "13/12\n",
      "3/2 1/2 2/2\n",
      "3/1\n"
     ]
    }
   ],
   "source": [
    "from fractions import Fraction\n",
    "\n",
    "def sumFractions(a1,a2,b1,b2,c1,c2):\n",
    "    a = a1 * b2 * c2\n",
    "    b = b1 * a2 * c2\n",
    "    c = c1 * a2 * b2\n",
    "    num = a+b+c\n",
    "    den = a2*b2*c2\n",
    "    return Fraction(num,den)\n",
    "\n",
    "def abc(a,b,c):\n",
    "    f1  = a.split(\"/\")\n",
    "    f2  = b.split(\"/\")\n",
    "    f3  = c.split(\"/\")\n",
    "    fraccion = sumFractions(int(f1[0]),int(f1[1]),int(f2[0]),int(f2[1]),int(f3[0]),int(f3[1]))\n",
    "    print(str(fraccion.numerator) + \"/\" + str(fraccion.denominator))\n",
    "    \n",
    "n = int(input())\n",
    "for i in range(n):\n",
    "    a = input().split()\n",
    "    abc(a[0],a[1],a[2])\n",
    "    \n",
    "    \n",
    "\n"
   ]
  },
  {
   "cell_type": "code",
   "execution_count": null,
   "metadata": {},
   "outputs": [],
   "source": []
  }
 ],
 "metadata": {
  "kernelspec": {
   "display_name": "Python 3",
   "language": "python",
   "name": "python3"
  },
  "language_info": {
   "codemirror_mode": {
    "name": "ipython",
    "version": 3
   },
   "file_extension": ".py",
   "mimetype": "text/x-python",
   "name": "python",
   "nbconvert_exporter": "python",
   "pygments_lexer": "ipython3",
   "version": "3.6.5"
  }
 },
 "nbformat": 4,
 "nbformat_minor": 2
}
