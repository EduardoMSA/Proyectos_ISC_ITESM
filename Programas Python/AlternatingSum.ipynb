{
 "cells": [
  {
   "cell_type": "code",
   "execution_count": 11,
   "metadata": {},
   "outputs": [
    {
     "name": "stdout",
     "output_type": "stream",
     "text": [
      "4 1 5 1\n",
      "-\n",
      "999999228\n"
     ]
    }
   ],
   "source": [
    "def aSum(n,a,b,k):\n",
    "    sum = 0\n",
    "    values = [None]*k\n",
    "    signos = input()\n",
    "    for i in range(k):\n",
    "        valor = 0\n",
    "        if(signos[i%len(signos)]==\"+\"):\n",
    "            valor = 1\n",
    "        else:\n",
    "            valor = -1\n",
    "        values[i] = valor\n",
    "    for i in range(n+1):\n",
    "        sum+= values[i%k]*pow(a,n-i)*pow(b,i)\n",
    "    sum%=pow(10,9)+9\n",
    "    print(sum)\n",
    "\n",
    "a = input()\n",
    "b = a.split()\n",
    "aSum(int(b[0]),int(b[1]),int(b[2]),int(b[3]))\n",
    "    \n",
    "    "
   ]
  },
  {
   "cell_type": "code",
   "execution_count": null,
   "metadata": {},
   "outputs": [],
   "source": []
  },
  {
   "cell_type": "code",
   "execution_count": null,
   "metadata": {},
   "outputs": [],
   "source": []
  }
 ],
 "metadata": {
  "kernelspec": {
   "display_name": "Python 3",
   "language": "python",
   "name": "python3"
  },
  "language_info": {
   "codemirror_mode": {
    "name": "ipython",
    "version": 3
   },
   "file_extension": ".py",
   "mimetype": "text/x-python",
   "name": "python",
   "nbconvert_exporter": "python",
   "pygments_lexer": "ipython3",
   "version": "3.6.5"
  }
 },
 "nbformat": 4,
 "nbformat_minor": 2
}
