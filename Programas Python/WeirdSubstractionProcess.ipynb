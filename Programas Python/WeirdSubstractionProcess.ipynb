{
 "cells": [
  {
   "cell_type": "code",
   "execution_count": null,
   "metadata": {},
   "outputs": [],
   "source": [
    "def wsp(a,b):\n",
    "    while(True):\n",
    "        if a==0 or b==0:\n",
    "            break\n",
    "        elif a>=2*b:\n",
    "            a = a%(2*b)\n",
    "        elif b>=2*a:\n",
    "            b = b%(2*a)\n",
    "        else:\n",
    "            break\n",
    "    print(str(a) + \" \" + str(b))\n",
    "    \n",
    "\n",
    "a = input()\n",
    "b = a.split()\n",
    "wsp(int(b[0]),int(b[1]))\n",
    "\n",
    "\n",
    "    \n"
   ]
  },
  {
   "cell_type": "code",
   "execution_count": null,
   "metadata": {},
   "outputs": [],
   "source": []
  }
 ],
 "metadata": {
  "kernelspec": {
   "display_name": "Python 3",
   "language": "python",
   "name": "python3"
  },
  "language_info": {
   "codemirror_mode": {
    "name": "ipython",
    "version": 3
   },
   "file_extension": ".py",
   "mimetype": "text/x-python",
   "name": "python",
   "nbconvert_exporter": "python",
   "pygments_lexer": "ipython3",
   "version": "3.6.5"
  }
 },
 "nbformat": 4,
 "nbformat_minor": 2
}
