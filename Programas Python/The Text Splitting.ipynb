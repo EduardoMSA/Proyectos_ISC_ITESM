{
 "cells": [
  {
   "cell_type": "code",
   "execution_count": 15,
   "metadata": {},
   "outputs": [
    {
     "name": "stdout",
     "output_type": "stream",
     "text": [
      "5 3 2\n",
      "Hello\n",
      "2\n",
      "Hel\n",
      "lo\n"
     ]
    }
   ],
   "source": [
    "def textSplitting(n,p,q,s):\n",
    "    size = n\n",
    "    cuenta = 0\n",
    "    while size>=0:\n",
    "        if size%p == 0:\n",
    "            break\n",
    "        cuenta+=1\n",
    "        size-=q\n",
    "        \n",
    "    if size<0:\n",
    "        print(-1)\n",
    "        return\n",
    "\n",
    "    cuenta2 = size//p\n",
    "    print(cuenta + cuenta2)\n",
    "    \n",
    "    indx = 0\n",
    "    for i in range(cuenta2):\n",
    "        print(s[indx:indx+p])\n",
    "        indx+=p\n",
    "    for i in range(cuenta):\n",
    "        print(s[indx:indx+q])\n",
    "        indx+=q\n",
    "    return\n",
    "    \n",
    "\n",
    "\n",
    "a = input().split()\n",
    "n = int(a[0])\n",
    "p = int(a[1])\n",
    "q = int(a[2])\n",
    "s = input()\n",
    "\n",
    "textSplitting(n,p,q,s)\n",
    "\n",
    "        \n",
    "\n",
    "\n"
   ]
  },
  {
   "cell_type": "code",
   "execution_count": null,
   "metadata": {},
   "outputs": [],
   "source": []
  }
 ],
 "metadata": {
  "kernelspec": {
   "display_name": "Python 3",
   "language": "python",
   "name": "python3"
  },
  "language_info": {
   "codemirror_mode": {
    "name": "ipython",
    "version": 3
   },
   "file_extension": ".py",
   "mimetype": "text/x-python",
   "name": "python",
   "nbconvert_exporter": "python",
   "pygments_lexer": "ipython3",
   "version": "3.6.5"
  }
 },
 "nbformat": 4,
 "nbformat_minor": 2
}
