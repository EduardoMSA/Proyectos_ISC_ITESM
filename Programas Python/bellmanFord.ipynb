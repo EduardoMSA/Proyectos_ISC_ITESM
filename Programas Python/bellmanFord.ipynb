{
 "cells": [
  {
   "cell_type": "code",
   "execution_count": 20,
   "metadata": {},
   "outputs": [
    {
     "name": "stdout",
     "output_type": "stream",
     "text": [
      "[0, -1, 2, -2, 1]\n",
      "0 1 -1\n",
      "0 2 4\n",
      "1 2 3\n",
      "1 3 2\n",
      "1 4 2\n",
      "3 2 5\n",
      "3 1 1\n",
      "4 3 -3\n",
      "[0, -1, 2, -2, 1]\n"
     ]
    }
   ],
   "source": [
    "class Graph: \n",
    "  \n",
    "    def __init__(self,vertices): \n",
    "        self.V= vertices\n",
    "        self.graph = [] \n",
    "   \n",
    "    def addEdge(self,u,v,w): \n",
    "        self.graph.append([u, v, w]) \n",
    "          \n",
    "    def printArr(self, dist): \n",
    "        #print(\"Vertex   Distance from Source\") \n",
    "        #for i in range(self.V): \n",
    "        #    print(\"%d \\t\\t %d\" % (i, dist[i])) \n",
    "        print(dist)\n",
    "            \n",
    "    def BellmanFord(self, src): \n",
    "        dist = [float(\"Inf\")] * self.V \n",
    "        dist[src] = 0 \n",
    "        \n",
    "        for i in range(self.V - 1): \n",
    "            for u, v, w in self.graph: \n",
    "                if dist[u] != float(\"Inf\") and dist[u] + w < dist[v]: \n",
    "                        dist[v] = dist[u] + w \n",
    "        \n",
    "        self.printArr(dist)\n",
    "  \n",
    "        for u, v, w in self.graph: \n",
    "            print(str(u) + \" \" + str(v) +\" \"+str(w))\n",
    "            if dist[u] != float(\"Inf\") and dist[u] + w < dist[v]: \n",
    "                    print (\"Ciclo Negativo\")\n",
    "                    return\n",
    "                          \n",
    "        self.printArr(dist) \n",
    "\n",
    "g = Graph(5) \n",
    "g.addEdge(0, 1, -1) \n",
    "g.addEdge(0, 2, 4) \n",
    "g.addEdge(1, 2, 3) \n",
    "g.addEdge(1, 3, 2) \n",
    "g.addEdge(1, 4, 2) \n",
    "g.addEdge(3, 2, 5) \n",
    "g.addEdge(3, 1, 1) \n",
    "g.addEdge(4, 3, -3) \n",
    "\n",
    "g2 = Graph(4)\n",
    "g2.addEdge(0,1,5)\n",
    "g2.addEdge(1,2,-2)\n",
    "g2.addEdge(2,3,1)\n",
    "g2.addEdge(3,1,-2)\n",
    "  \n",
    "#Print the solution \n",
    "g.BellmanFord(0) \n",
    "  "
   ]
  },
  {
   "cell_type": "code",
   "execution_count": null,
   "metadata": {},
   "outputs": [],
   "source": []
  }
 ],
 "metadata": {
  "kernelspec": {
   "display_name": "Python 3",
   "language": "python",
   "name": "python3"
  },
  "language_info": {
   "codemirror_mode": {
    "name": "ipython",
    "version": 3
   },
   "file_extension": ".py",
   "mimetype": "text/x-python",
   "name": "python",
   "nbconvert_exporter": "python",
   "pygments_lexer": "ipython3",
   "version": "3.6.5"
  }
 },
 "nbformat": 4,
 "nbformat_minor": 2
}
