{
 "cells": [
  {
   "cell_type": "markdown",
   "metadata": {},
   "source": [
    "Óscar Sierra\n",
    "Eduardo Méndez\n",
    "Sebastián Serna"
   ]
  },
  {
   "cell_type": "code",
   "execution_count": null,
   "metadata": {},
   "outputs": [],
   "source": [
    "def domino_problem(n):\n",
    "    arr = [None] * (n+2)\n",
    "    arr[0], arr[1] = 0, 1\n",
    "    for i in range(2, n+2):\n",
    "        arr[i] = arr[i-1] + arr[i-2]\n",
    "    return arr[n+1]\n",
    "    \n",
    "print(domino_problem(int(input())))"
   ]
  },
  {
   "cell_type": "code",
   "execution_count": null,
   "metadata": {},
   "outputs": [],
   "source": [
    "def range_sum(l, r):\n",
    "    arr = [1,-2,3,10,-8,0]\n",
    "    arr_accum = [None] * len(arr)\n",
    "    accum = 0\n",
    "    for i in range(0, len(arr)):\n",
    "        accum+=arr[i]\n",
    "        arr_accum[i] = accum\n",
    "        \n",
    "    if l == 0:\n",
    "        return arr_accum[r]\n",
    "    else: \n",
    "        return arr_accum[r] - (arr_accum[l-1])\n",
    "    \n",
    "print(range_sum(1,4))"
   ]
  },
  {
   "cell_type": "code",
   "execution_count": null,
   "metadata": {},
   "outputs": [],
   "source": [
    "def unfairness:\n",
    "    "
   ]
  },
  {
   "cell_type": "code",
   "execution_count": 9,
   "metadata": {},
   "outputs": [
    {
     "data": {
      "text/plain": [
       "89"
      ]
     },
     "execution_count": 9,
     "metadata": {},
     "output_type": "execute_result"
    }
   ],
   "source": [
    "def stairwayToHeaven(n):\n",
    "    if n==0:\n",
    "        return 0\n",
    "    T=[None]*(n+1)\n",
    "    T[0]=1\n",
    "    T[1]=1\n",
    "    for i in range(2,n+1):\n",
    "        T[i]=T[i-1]+T[i-2]\n",
    "    return T[n]\n",
    "\n",
    "stairwayToHeaven(10)"
   ]
  },
  {
   "cell_type": "code",
   "execution_count": null,
   "metadata": {},
   "outputs": [],
   "source": [
    "def goHome(m,n):\n",
    "    if m==1 or n==1:\n",
    "        return 1\n",
    "    T=[[0 for x in range(n)] for y in range(m)]\n",
    "    for i in range(n):\n",
    "        T[m-1][i]=1\n",
    "    for i in range(m):\n",
    "        T[i][n-1]=1\n",
    "    for i in range(m-2,-1,-1):\n",
    "        for j in range(n-2,-1,-1):\n",
    "            T[i][j]=(T[i][j+1])+(T[i+1][j])\n",
    "    return T[0][0]\n",
    "\n",
    "goHome(7,6)"
   ]
  },
  {
   "cell_type": "code",
   "execution_count": 5,
   "metadata": {},
   "outputs": [
    {
     "name": "stdout",
     "output_type": "stream",
     "text": [
      "2\n"
     ]
    }
   ],
   "source": [
    "def candles(n,k,a):\n",
    "    if k==1:\n",
    "        return 0\n",
    "    if k==0:\n",
    "        return 0\n",
    "    if n<k:\n",
    "        return \"No es posible\"\n",
    "    T=[[]]*(k+1)\n",
    "    T[0]=0\n",
    "    T[1]=a\n",
    "    tmp = [0,1]\n",
    "    for i in range(len(T[1])):\n",
    "        for j in range(len(T[1])):\n",
    "            if i==j:\n",
    "                continue\n",
    "            if (abs(T[1][i]-T[1][j]))<abs((a[tmp[0]]-a[tmp[1]])):\n",
    "                tmp[0]=i\n",
    "                tmp[1]=j\n",
    "    T[2]=tmp\n",
    "    for i in range(3,k+1):\n",
    "        T[i]=T[i-1].copy()\n",
    "        for j in range(len(a)):\n",
    "            if j in T[i]:\n",
    "                continue\n",
    "            T[i].append(j)\n",
    "            break\n",
    "        for j in range(len(a)):\n",
    "            if j in T[i]:\n",
    "                continue\n",
    "            aux=T[i-1].copy()\n",
    "            aux.append(j)\n",
    "            if diferencia(T[i],a)>diferencia(aux,a):\n",
    "                T[i]=aux\n",
    "    return diferencia(T[-1],a)\n",
    "                \n",
    "def diferencia(T,a):\n",
    "    dif = 0\n",
    "    for i in range(len(T)):\n",
    "        for j in range(i,len(T)):\n",
    "            dif+= abs(a[T[i]]-a[T[j]])\n",
    "    return dif\n",
    "                    \n",
    "            \n",
    "            \n",
    "    \n",
    "a = [3,3,4,5,7,9,10]\n",
    "print(candles(7,3,a))"
   ]
  },
  {
   "cell_type": "code",
   "execution_count": null,
   "metadata": {},
   "outputs": [],
   "source": []
  }
 ],
 "metadata": {
  "kernelspec": {
   "display_name": "Python 3",
   "language": "python",
   "name": "python3"
  },
  "language_info": {
   "codemirror_mode": {
    "name": "ipython",
    "version": 3
   },
   "file_extension": ".py",
   "mimetype": "text/x-python",
   "name": "python",
   "nbconvert_exporter": "python",
   "pygments_lexer": "ipython3",
   "version": "3.6.5"
  }
 },
 "nbformat": 4,
 "nbformat_minor": 2
}
