{
 "cells": [
  {
   "cell_type": "code",
   "execution_count": 1,
   "metadata": {},
   "outputs": [
    {
     "name": "stdout",
     "output_type": "stream",
     "text": [
      "7 10\n",
      "1 3 8 6 2 2 7\n",
      "4\n",
      "2\n",
      "6\n",
      "3\n",
      "4\n",
      "4\n",
      "6\n",
      "2\n",
      "7\n",
      "4\n",
      "3\n",
      "5\n",
      "2\n",
      "4\n",
      "3\n",
      "3\n",
      "2\n",
      "5\n",
      "1\n",
      "3\n"
     ]
    }
   ],
   "source": [
    "def sns(n,m):\n",
    "    a=[0]*100005\n",
    "    b=[0]*100005\n",
    "    result=[]\n",
    "    c=[False]*100005\n",
    "    vn = input()\n",
    "    vn = vn.split()\n",
    "    vn = list(map(int,vn))\n",
    "    for i in range(1,n+1):\n",
    "        a[i]=vn[i-1]\n",
    "    for i in range(n,0,-1):\n",
    "        if not c[a[i]]:\n",
    "            b[i]+=1\n",
    "        c[a[i]]=True\n",
    "    for i in range(n,0,-1):\n",
    "        b[i]+=b[i+1]\n",
    "    for i in range(m):\n",
    "        result.append(b[int(input())])\n",
    "    for i in result:\n",
    "        print(i)\n",
    "a = input()\n",
    "b = a.split()\n",
    "sns(int(b[0]),int(b[1]))\n",
    "\n"
   ]
  },
  {
   "cell_type": "code",
   "execution_count": null,
   "metadata": {},
   "outputs": [],
   "source": []
  }
 ],
 "metadata": {
  "kernelspec": {
   "display_name": "Python 3",
   "language": "python",
   "name": "python3"
  },
  "language_info": {
   "codemirror_mode": {
    "name": "ipython",
    "version": 3
   },
   "file_extension": ".py",
   "mimetype": "text/x-python",
   "name": "python",
   "nbconvert_exporter": "python",
   "pygments_lexer": "ipython3",
   "version": "3.6.5"
  }
 },
 "nbformat": 4,
 "nbformat_minor": 2
}
