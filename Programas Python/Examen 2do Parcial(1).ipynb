{
 "cells": [
  {
   "cell_type": "code",
   "execution_count": 3,
   "metadata": {},
   "outputs": [
    {
     "name": "stdout",
     "output_type": "stream",
     "text": [
      "[[1, 3, 2, 3, 2, 2], [1, 3, 4, 3, 2, 2], [1, 3, 2, 3, 4, 2], [1, 3, 2, 3, 2, 3], [1, 3, 4, 5, 2, 2], [1, 3, 4, 3, 4, 2], [1, 3, 4, 3, 2, 3], [1, 3, 4, 3, 4, 2], [1, 3, 2, 3, 4, 5], [1, 3, 4, 3, 2, 3], [1, 3, 2, 3, 4, 3], [1, 3, 4, 5, 6, 2], [1, 3, 4, 5, 2, 3], [1, 3, 4, 5, 4, 2], [1, 3, 4, 3, 4, 5], [1, 3, 4, 5, 2, 3], [1, 3, 4, 3, 4, 3], [1, 3, 4, 5, 4, 2], [1, 3, 4, 3, 4, 5], [1, 3, 4, 3, 4, 5], [1, 3, 4, 5, 2, 3], [1, 3, 4, 3, 4, 3], [1, 3, 4, 3, 4, 3], [1, 3, 2, 3, 4, 5], [1, 3, 4, 5, 6, 7], [1, 3, 4, 5, 6, 3], [1, 3, 4, 5, 6, 2], [1, 3, 4, 5, 4, 5], [1, 3, 4, 5, 4, 5], [1, 3, 4, 5, 6, 3], [1, 3, 4, 5, 4, 3], [1, 3, 4, 3, 4, 5], [1, 3, 4, 5, 6, 2], [1, 3, 4, 5, 4, 5], [1, 3, 4, 5, 4, 5], [1, 3, 4, 5, 4, 5], [1, 3, 4, 5, 6, 3], [1, 3, 4, 5, 4, 3], [1, 3, 4, 3, 4, 5], [1, 3, 4, 5, 4, 3], [1, 3, 4, 3, 4, 5], [1, 3, 4, 3, 4, 5], [1, 3, 4, 5, 6, 7], [1, 3, 4, 5, 6, 7], [1, 3, 4, 5, 6, 5], [1, 3, 4, 5, 6, 5], [1, 3, 4, 5, 6, 7], [1, 3, 4, 5, 6, 3], [1, 3, 4, 5, 4, 5], [1, 3, 4, 5, 4, 5], [1, 3, 4, 5, 6, 7], [1, 3, 4, 5, 6, 5], [1, 3, 4, 5, 6, 5], [1, 3, 4, 5, 6, 5], [1, 3, 4, 5, 6, 7], [1, 3, 4, 5, 6, 3], [1, 3, 4, 5, 4, 5], [1, 3, 4, 5, 4, 5], [1, 3, 4, 5, 6, 3], [1, 3, 4, 5, 4, 5], [1, 3, 4, 5, 4, 5], [1, 3, 4, 5, 4, 5], [1, 3, 4, 5, 6, 7], [1, 3, 4, 5, 6, 7], [1, 3, 4, 5, 6, 7], [1, 3, 4, 5, 6, 5], [1, 3, 4, 5, 6, 5], [1, 3, 4, 5, 6, 7], [1, 3, 4, 5, 6, 7], [1, 3, 4, 5, 6, 7], [1, 3, 4, 5, 6, 7], [1, 3, 4, 5, 6, 5], [1, 3, 4, 5, 6, 5], [1, 3, 4, 5, 6, 7], [1, 3, 4, 5, 6, 5], [1, 3, 4, 5, 6, 5], [1, 3, 4, 5, 6, 5], [1, 3, 4, 5, 6, 7], [1, 3, 4, 5, 6, 7], [1, 3, 4, 5, 6, 7], [1, 3, 4, 5, 6, 7], [1, 3, 4, 5, 6, 7], [1, 3, 4, 5, 6, 7], [1, 3, 4, 5, 6, 7]]\n",
      "83\n"
     ]
    }
   ],
   "source": [
    "def remplazos(serie):\n",
    "    \n",
    "    T = [[None]]\n",
    "    T[0]=serie\n",
    "    \n",
    "    for i in T:\n",
    "        for j in range(1,len(i)):\n",
    "            if i[j]<=i[j-1]:\n",
    "                T.append(i.copy())\n",
    "                \n",
    "                if i[j]-i[j-2]<=1:\n",
    "                    T[-1][j]=i[j-1]+1\n",
    "                else:\n",
    "                    T[-1][j-1]=i[j]-1\n",
    "    ##return (len(T)-1, T[-1]) Para saber como queda\n",
    "    print(T)\n",
    "    return (len(T)-1)\n",
    "a = [1,3,2,3,2,2]\n",
    "print(remplazos(a))"
   ]
  },
  {
   "cell_type": "code",
   "execution_count": 35,
   "metadata": {},
   "outputs": [
    {
     "name": "stdout",
     "output_type": "stream",
     "text": [
      "9\n"
     ]
    }
   ],
   "source": [
    "def huevos(nidos):\n",
    "    acumulado = [[0]]\n",
    "    for n in range(1,len(nidos)):\n",
    "        #posibilidad = [i]\n",
    "        #acumulado.append(posibilidad)\n",
    "        size = len(acumulado)\n",
    "        for m in range(size):\n",
    "            if acumulado[m][-1]<(n-1) or acumulado[m][-1]>(n+1):\n",
    "                tmp = acumulado[m].copy()\n",
    "                tmp.append(n)\n",
    "                acumulado.append(tmp)\n",
    "        tmp = [n]\n",
    "        acumulado.append(tmp)\n",
    "    \n",
    "    maximo = total(nidos, acumulado[0])\n",
    "    \n",
    "    for i in range(1,len(acumulado)):\n",
    "        \n",
    "        tmp = total(nidos, acumulado[i])\n",
    "        if tmp>maximo:\n",
    "            maximo=tmp\n",
    "    return maximo\n",
    "\n",
    "def total(nidos, nido):\n",
    "    suma = 0\n",
    "    for i in nido:\n",
    "        suma+=nidos[i]\n",
    "    return suma\n",
    "    \n",
    "\n",
    "        \n",
    "a = [2,8,4,1]\n",
    "print(huevos(a))\n",
    "            \n",
    "        "
   ]
  },
  {
   "cell_type": "code",
   "execution_count": 9,
   "metadata": {},
   "outputs": [
    {
     "name": "stdout",
     "output_type": "stream",
     "text": [
      "0\n"
     ]
    }
   ],
   "source": []
  },
  {
   "cell_type": "code",
   "execution_count": null,
   "metadata": {},
   "outputs": [],
   "source": []
  }
 ],
 "metadata": {
  "kernelspec": {
   "display_name": "Python 3",
   "language": "python",
   "name": "python3"
  },
  "language_info": {
   "codemirror_mode": {
    "name": "ipython",
    "version": 3
   },
   "file_extension": ".py",
   "mimetype": "text/x-python",
   "name": "python",
   "nbconvert_exporter": "python",
   "pygments_lexer": "ipython3",
   "version": "3.6.5"
  }
 },
 "nbformat": 4,
 "nbformat_minor": 2
}
