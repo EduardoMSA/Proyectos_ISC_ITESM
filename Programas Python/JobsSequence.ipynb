{
 "cells": [
  {
   "cell_type": "code",
   "execution_count": 27,
   "metadata": {},
   "outputs": [
    {
     "data": {
      "text/plain": [
       "(142, ['J3', 'J1', 'J5'])"
      ]
     },
     "execution_count": 27,
     "metadata": {},
     "output_type": "execute_result"
    }
   ],
   "source": [
    "def jobSeq(jobs):\n",
    "    \n",
    "    maxDeadline = 0\n",
    "    for i in jobs:\n",
    "        if i[2]>maxDeadline:\n",
    "            maxDeadline=i[2]\n",
    "    \n",
    "    tmp = [None]*maxDeadline\n",
    "    \n",
    "    jobs.sort(key=lambda jobs: jobs[1],reverse=True)\n",
    "    \n",
    "    for i in jobs:\n",
    "        n = i[2]\n",
    "        for j in range(n-1,-1,-1):\n",
    "            if tmp[j]==None:\n",
    "                tmp[j]=i\n",
    "                break\n",
    "    total = 0\n",
    "    orden = []\n",
    "    for i in tmp:\n",
    "        if i != None:\n",
    "            total+=i[1]\n",
    "            orden.append(i[0])\n",
    "    return (total,orden)\n",
    "    \n",
    "    \n",
    "\n",
    "jobs = [(\"J1\",100,2),(\"J2\",19,1),(\"J3\",27,2),(\"J4\",25,1),(\"J5\",15,3)]\n",
    "\n",
    "\n",
    "jobSeq(jobs)"
   ]
  },
  {
   "cell_type": "code",
   "execution_count": null,
   "metadata": {},
   "outputs": [],
   "source": []
  }
 ],
 "metadata": {
  "kernelspec": {
   "display_name": "Python 3",
   "language": "python",
   "name": "python3"
  },
  "language_info": {
   "codemirror_mode": {
    "name": "ipython",
    "version": 3
   },
   "file_extension": ".py",
   "mimetype": "text/x-python",
   "name": "python",
   "nbconvert_exporter": "python",
   "pygments_lexer": "ipython3",
   "version": "3.6.5"
  }
 },
 "nbformat": 4,
 "nbformat_minor": 2
}
