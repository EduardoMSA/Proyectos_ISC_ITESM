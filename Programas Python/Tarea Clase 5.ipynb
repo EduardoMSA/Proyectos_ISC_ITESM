{
 "cells": [
  {
   "cell_type": "code",
   "execution_count": 14,
   "metadata": {},
   "outputs": [
    {
     "name": "stdout",
     "output_type": "stream",
     "text": [
      "6\n",
      "7\n",
      "voy_a_aprobar\n"
     ]
    }
   ],
   "source": [
    "#Eduardo Méndez\n",
    "#A01632947\n",
    "\n",
    "def sumCum(n):\n",
    "    if(n == 0):\n",
    "        return 0\n",
    "    return n + sumCum(n-1)\n",
    "\n",
    "def sumDigit(n):\n",
    "    sum = 0\n",
    "    for digit in range(len(str(n))):\n",
    "        sum+=int(str(n)[digit])\n",
    "    return sum\n",
    "\n",
    "def reversible(palabra):\n",
    "    if(len(palabra)==0):\n",
    "        return \"\"\n",
    "    return palabra[-1] + reversibleb(palabra[:-1])\n",
    "\n",
    "print(sumCum(3))\n",
    "print(sumDigit(43))\n",
    "print(reversible(\"raborpa_a_yov\"))"
   ]
  },
  {
   "cell_type": "code",
   "execution_count": null,
   "metadata": {},
   "outputs": [],
   "source": []
  }
 ],
 "metadata": {
  "kernelspec": {
   "display_name": "Python 3",
   "language": "python",
   "name": "python3"
  },
  "language_info": {
   "codemirror_mode": {
    "name": "ipython",
    "version": 3
   },
   "file_extension": ".py",
   "mimetype": "text/x-python",
   "name": "python",
   "nbconvert_exporter": "python",
   "pygments_lexer": "ipython3",
   "version": "3.6.5"
  }
 },
 "nbformat": 4,
 "nbformat_minor": 2
}
