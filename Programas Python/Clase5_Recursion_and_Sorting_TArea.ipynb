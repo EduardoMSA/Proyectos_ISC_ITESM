{
 "cells": [
  {
   "cell_type": "markdown",
   "metadata": {},
   "source": [
    "# CLASE 5: RECURSION AND SORTING"
   ]
  },
  {
   "cell_type": "markdown",
   "metadata": {},
   "source": [
    "OUTLINE:\n",
    "- Anuncio\n",
    "- Recursion\n",
    "- Examples of Recursion\n",
    "- Tarea\n",
    "- Merge Sort and complexity analysis\n",
    "- RETO!!"
   ]
  },
  {
   "cell_type": "markdown",
   "metadata": {},
   "source": [
    "### ANUNCIO"
   ]
  },
  {
   "cell_type": "markdown",
   "metadata": {},
   "source": [
    "Sobre Data Science, AI y BlockChain"
   ]
  },
  {
   "cell_type": "markdown",
   "metadata": {},
   "source": [
    "### RECURSION ALGORITHMS"
   ]
  },
  {
   "cell_type": "markdown",
   "metadata": {},
   "source": [
    "*"
   ]
  },
  {
   "cell_type": "markdown",
   "metadata": {},
   "source": [
    "La recursión es una técnica en la que una función hace una o más llamadas a sí misma"
   ]
  },
  {
   "cell_type": "markdown",
   "metadata": {},
   "source": [
    "All recursive algorithms have a BASE-CASE (Escape Case)!!\n"
   ]
  },
  {
   "cell_type": "markdown",
   "metadata": {},
   "source": [
    "## ¿Porque usamos recursión?\n",
    "porque sí"
   ]
  },
  {
   "cell_type": "markdown",
   "metadata": {},
   "source": []
  },
  {
   "cell_type": "markdown",
   "metadata": {},
   "source": [
    "Hagamos un ejemplo:\n",
    "Definamos una función que calcule el factorial de n\n",
    " \n",
    "Entonces el factorial de n se define como n! = n*(n-1)*(n-2)...3*2*1\n",
    "Por definición 0! = 1  ---------->   *Base Case\n",
    "\n",
    "Pero también notemos otra cosa: 4!=4*(3*2*1)= 4*3!  --------->> en general n!=n*(n-1)!\n",
    "\n",
    "Bien, ahora alguien pase a hacer la función Factorial\n"
   ]
  },
  {
   "cell_type": "code",
   "execution_count": 88,
   "metadata": {},
   "outputs": [],
   "source": [
    "def factorial(n):\n",
    "    if n==0:\n",
    "        return 1\n",
    "    return n*factorial(n-1)"
   ]
  },
  {
   "cell_type": "code",
   "execution_count": 92,
   "metadata": {},
   "outputs": [
    {
     "name": "stdout",
     "output_type": "stream",
     "text": [
      "3628800\n"
     ]
    }
   ],
   "source": [
    "F= factorial(10)\n",
    "print(F)"
   ]
  },
  {
   "cell_type": "markdown",
   "metadata": {},
   "source": [
    "TAREA INDIVIDUAL:"
   ]
  },
  {
   "cell_type": "markdown",
   "metadata": {},
   "source": [
    "P1. Escribe una función recursiva que tome un entero y calcule la suma cumulativa desde cero hasta ese entero.\n",
    " \n",
    " ejemplo  SumCum(3)=6"
   ]
  },
  {
   "cell_type": "markdown",
   "metadata": {},
   "source": [
    "P2. Dado un entero, sumar todos los dígitos de ese entero:\n",
    "    Ejemplo sumdigit(43)= 7"
   ]
  },
  {
   "cell_type": "markdown",
   "metadata": {},
   "source": [
    "P3. Crea una función recursiva que invierta un string:\n",
    "    Ejemplo dereversa(raborper_a_yov)= voy_a_reprobar"
   ]
  },
  {
   "cell_type": "markdown",
   "metadata": {},
   "source": [
    "# Merge Sort"
   ]
  },
  {
   "cell_type": "markdown",
   "metadata": {},
   "source": [
    "The idea behind the merge sort algorithm is to \"DIVIDE & CONQUER\" with a \"merge\" strategy. It is a \"Recursive\" Algorithm!"
   ]
  },
  {
   "cell_type": "markdown",
   "metadata": {},
   "source": [
    "Let's go from general to particular:"
   ]
  },
  {
   "cell_type": "markdown",
   "metadata": {},
   "source": [
    "GENERAL ALGORITHM:\n",
    "    1. Split\n",
    "    2. Sort\n",
    "    3. Merge"
   ]
  },
  {
   "cell_type": "markdown",
   "metadata": {},
   "source": [
    "<img src=\"MergeSort3.PNG\">"
   ]
  },
  {
   "cell_type": "markdown",
   "metadata": {},
   "source": [
    "Obviamente, esto no dice mucho... Vamos a definir el \"Merge Step\""
   ]
  },
  {
   "cell_type": "markdown",
   "metadata": {},
   "source": [
    "Ahora calculemos la complejidad del Merge Step"
   ]
  },
  {
   "cell_type": "code",
   "execution_count": null,
   "metadata": {},
   "outputs": [],
   "source": [
    "PAra analizar la complejidad de todo el algoritmo, dibujemos el recursion tree"
   ]
  },
  {
   "cell_type": "markdown",
   "metadata": {},
   "source": [
    "# RETOS EN EQUIPOS:\n",
    "    1.- Formar equipos de 3\n",
    "    2.- Para cada problema: escribir el código, analizar su complejidad y hacer la gráfica de tiempo para cuando n va de 1 a 15\n",
    "    \n",
    "    "
   ]
  },
  {
   "cell_type": "markdown",
   "metadata": {},
   "source": [
    "RETO 1"
   ]
  },
  {
   "cell_type": "markdown",
   "metadata": {},
   "source": [
    "Obtener el número Fibonacci para cualquier \"n\""
   ]
  },
  {
   "cell_type": "markdown",
   "metadata": {},
   "source": [
    "RETO 2:\n",
    "\n",
    "Obtener el último dígito de el número Fibonacci para una \"n\" arbitrariamente larga i.e n=300"
   ]
  },
  {
   "cell_type": "markdown",
   "metadata": {},
   "source": [
    "RETO 3:\n",
    " \n",
    " Realizar el código del algoritmo Merge Sort\n",
    "    "
   ]
  },
  {
   "cell_type": "markdown",
   "metadata": {},
   "source": [
    "RETO 4:\n",
    "Plotear las siguientes gráficas con distintos colores para n de 1 a 100:\n",
    "    1. 6nLog_2(n)\n",
    "    2. 6n\n",
    "    3. 6nLog_2(n) + 6n\n",
    "    4. nLog_2(n)"
   ]
  },
  {
   "cell_type": "code",
   "execution_count": null,
   "metadata": {},
   "outputs": [],
   "source": []
  }
 ],
 "metadata": {
  "kernelspec": {
   "display_name": "Python 3",
   "language": "python",
   "name": "python3"
  },
  "language_info": {
   "codemirror_mode": {
    "name": "ipython",
    "version": 3
   },
   "file_extension": ".py",
   "mimetype": "text/x-python",
   "name": "python",
   "nbconvert_exporter": "python",
   "pygments_lexer": "ipython3",
   "version": "3.6.5"
  }
 },
 "nbformat": 4,
 "nbformat_minor": 2
}
