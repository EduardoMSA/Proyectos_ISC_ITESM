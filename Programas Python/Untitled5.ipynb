{
 "cells": [
  {
   "cell_type": "code",
   "execution_count": 3,
   "metadata": {},
   "outputs": [
    {
     "name": "stdout",
     "output_type": "stream",
     "text": [
      "0\n",
      "2\n",
      "4\n",
      "5\n",
      "8\n"
     ]
    }
   ],
   "source": [
    "def selectionSort(lista):\n",
    "    for i in range (len(lista)-1):\n",
    "        minIndex = i\n",
    "        for j in range(i+1,len(lista)):\n",
    "            if(lista[j]<lista[minIndex]):\n",
    "                minIndex=j\n",
    "        tmp = lista[i]\n",
    "        lista[i]=lista[minIndex]\n",
    "        lista[minIndex]=tmp\n",
    "    \n",
    "    \n",
    "lista = [5,4,8,2,0]\n",
    "selectionSort(lista)\n",
    "for n in lista:\n",
    "    print(n)"
   ]
  },
  {
   "cell_type": "code",
   "execution_count": null,
   "metadata": {},
   "outputs": [],
   "source": []
  }
 ],
 "metadata": {
  "kernelspec": {
   "display_name": "Python 3",
   "language": "python",
   "name": "python3"
  },
  "language_info": {
   "codemirror_mode": {
    "name": "ipython",
    "version": 3
   },
   "file_extension": ".py",
   "mimetype": "text/x-python",
   "name": "python",
   "nbconvert_exporter": "python",
   "pygments_lexer": "ipython3",
   "version": "3.6.5"
  }
 },
 "nbformat": 4,
 "nbformat_minor": 2
}
