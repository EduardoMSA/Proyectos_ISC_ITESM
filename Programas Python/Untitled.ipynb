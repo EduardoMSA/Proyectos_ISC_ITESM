{
 "cells": [
  {
   "cell_type": "code",
   "execution_count": 16,
   "metadata": {},
   "outputs": [
    {
     "name": "stdout",
     "output_type": "stream",
     "text": [
      "4\n"
     ]
    },
    {
     "data": {
      "text/plain": [
       "(True, 1)"
      ]
     },
     "execution_count": 16,
     "metadata": {},
     "output_type": "execute_result"
    }
   ],
   "source": [
    "def linSearch(lista, indice, tamaño, llave):\n",
    "    if indice > tamaño:\n",
    "        return False\n",
    "    elif lista[indice]==llave:\n",
    "        return indice\n",
    "    return linSearch(lista, indice+1, tamaño, llave)\n",
    "\n",
    "a=[2,1,5,1,3,54]\n",
    "print(linSearch(a,0,len(a)-1,3))\n",
    "\n",
    "def binarySearch(lista, llave, p):\n",
    "    posE = len(lista)//2\n",
    "    if posE == 0:\n",
    "        return (False,-1)\n",
    "    if llave==lista[posE]:\n",
    "        return (True,posE)\n",
    "    elif llave<lista[posE]:\n",
    "        return binarySearch(lista[:posE], llave)\n",
    "    elif llave>lista[posE]:\n",
    "        return binarySearch(lista[posE:], llave)\n",
    "    \n",
    "a = [0,1,2,3,4,5]\n",
    "binarySearch(a,4)\n",
    "        \n",
    "    "
   ]
  },
  {
   "cell_type": "code",
   "execution_count": 6,
   "metadata": {},
   "outputs": [
    {
     "name": "stdout",
     "output_type": "stream",
     "text": [
      "4\n",
      "5\n",
      "6\n"
     ]
    }
   ],
   "source": [
    "lista = [0,1,2,3,4,5,6]\n",
    "for i in lista[3+1:]:\n",
    "    print(i)"
   ]
  },
  {
   "cell_type": "code",
   "execution_count": null,
   "metadata": {},
   "outputs": [],
   "source": []
  },
  {
   "cell_type": "code",
   "execution_count": null,
   "metadata": {},
   "outputs": [],
   "source": []
  }
 ],
 "metadata": {
  "kernelspec": {
   "display_name": "Python 3",
   "language": "python",
   "name": "python3"
  },
  "language_info": {
   "codemirror_mode": {
    "name": "ipython",
    "version": 3
   },
   "file_extension": ".py",
   "mimetype": "text/x-python",
   "name": "python",
   "nbconvert_exporter": "python",
   "pygments_lexer": "ipython3",
   "version": "3.6.5"
  }
 },
 "nbformat": 4,
 "nbformat_minor": 2
}
