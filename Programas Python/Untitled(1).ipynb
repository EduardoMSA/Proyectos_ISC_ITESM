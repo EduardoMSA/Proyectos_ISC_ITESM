{
 "cells": [
  {
   "cell_type": "markdown",
   "metadata": {},
   "source": [
    "# Bienvenido a tu examen número dos!!"
   ]
  },
  {
   "cell_type": "markdown",
   "metadata": {},
   "source": [
    "### A continuación se te muestran dos problemas que tienes que resolver con programación dinámica. Éxito!!"
   ]
  },
  {
   "cell_type": "markdown",
   "metadata": {},
   "source": [
    "P1. (25pts). Se te da una secuencia de enteros $a_1, \\: a_2, a_3,..., \\: a_n$.\n",
    "Puedes reemplazar cualquier número de la serie con otro entero positivo. ¿Cuál es el mínimo número de reemplazos para que la serie resultante sea una serie estrictamente creciente.\n",
    "\n",
    "Ejemplo:\n",
    "\n",
    "1,3, 10, 2, 20\n",
    "\n",
    "Respuesta = 1\n",
    "\n",
    "Explicación:\n",
    "reemplaza el 2 por un número entre 11 y 19:  \n",
    "\n",
    "1,3,10,11,20"
   ]
  },
  {
   "cell_type": "markdown",
   "metadata": {},
   "source": [
    "-.-.-.-.-.-.-.-.-.-.-.-.-.-.-.-.-.-.-.-.-.-.-.-.-.-.-.-.-.-.-.-.-.-.-.-.-.-.-.-."
   ]
  },
  {
   "cell_type": "markdown",
   "metadata": {},
   "source": [
    "P2 (25 pts). Cada año, en la playa Higuera Blanca miles de tortugas ponen sus huevos en nidos. Un contrabandista quiere robar los huevos de los \"n\" nidos, pero no puede robar huevos de dos nidos que están contiguos porque activaría la alarma de los ecologistas.\n",
    "Dado un array \"A\" con \"n\" nidos y con el número de huevos de cada nido, determina cuál es la máxima cantidad de huevos que el contrabandista puede robar sin activar la alarma.\n",
    "\n",
    "Ejemplo  A = [2, 8, 4, 1]\n",
    "La respuesta es 9\n",
    "\n",
    "Explicación 8+1=9"
   ]
  },
  {
   "cell_type": "code",
   "execution_count": null,
   "metadata": {},
   "outputs": [],
   "source": []
  },
  {
   "cell_type": "code",
   "execution_count": null,
   "metadata": {},
   "outputs": [],
   "source": []
  },
  {
   "cell_type": "code",
   "execution_count": null,
   "metadata": {},
   "outputs": [],
   "source": []
  },
  {
   "cell_type": "code",
   "execution_count": null,
   "metadata": {},
   "outputs": [],
   "source": []
  },
  {
   "cell_type": "code",
   "execution_count": null,
   "metadata": {},
   "outputs": [],
   "source": []
  },
  {
   "cell_type": "code",
   "execution_count": null,
   "metadata": {},
   "outputs": [],
   "source": []
  },
  {
   "cell_type": "code",
   "execution_count": null,
   "metadata": {},
   "outputs": [],
   "source": []
  },
  {
   "cell_type": "code",
   "execution_count": null,
   "metadata": {},
   "outputs": [],
   "source": []
  },
  {
   "cell_type": "code",
   "execution_count": null,
   "metadata": {},
   "outputs": [],
   "source": []
  },
  {
   "cell_type": "code",
   "execution_count": null,
   "metadata": {},
   "outputs": [],
   "source": []
  }
 ],
 "metadata": {
  "kernelspec": {
   "display_name": "Python 3",
   "language": "python",
   "name": "python3"
  },
  "language_info": {
   "codemirror_mode": {
    "name": "ipython",
    "version": 3
   },
   "file_extension": ".py",
   "mimetype": "text/x-python",
   "name": "python",
   "nbconvert_exporter": "python",
   "pygments_lexer": "ipython3",
   "version": "3.6.5"
  }
 },
 "nbformat": 4,
 "nbformat_minor": 2
}
