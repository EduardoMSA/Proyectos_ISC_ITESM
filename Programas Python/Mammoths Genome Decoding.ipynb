{
 "cells": [
  {
   "cell_type": "code",
   "execution_count": 37,
   "metadata": {},
   "outputs": [
    {
     "name": "stdout",
     "output_type": "stream",
     "text": [
      "8\n",
      "AG?C??CT\n",
      "AGACGTCT\n"
     ]
    }
   ],
   "source": [
    "\n",
    "def decoding(s):\n",
    "    cuenta = [0]*4\n",
    "    cuenta[0]=s.count(\"A\")\n",
    "    cuenta[1]=s.count(\"C\")\n",
    "    cuenta[2]=s.count(\"G\")\n",
    "    cuenta[3]=s.count(\"T\")\n",
    "    faltantesA = max(cuenta)-cuenta[0]\n",
    "    faltantesC = max(cuenta)-cuenta[1]\n",
    "    faltantesG = max(cuenta)-cuenta[2]\n",
    "    faltantesT = max(cuenta)-cuenta[3]\n",
    "    faltantesTotales = faltantesA + faltantesC + faltantesG + faltantesT\n",
    "    incognitas = s.count(\"?\")\n",
    "    if(len(s)%4!=0):\n",
    "        return \"===\"\n",
    "    tmp1=s.replace(\"?\",\"A\",faltantesA)\n",
    "    tmp2=tmp1.replace(\"?\",\"C\",faltantesC)\n",
    "    tmp3=tmp2.replace(\"?\",\"G\",faltantesG)\n",
    "    s=tmp3.replace(\"?\",\"T\",faltantesT)\n",
    "    while s.count(\"?\")!=0:\n",
    "        tmp1=s.replace(\"?\",\"A\",1)\n",
    "        tmp2=tmp1.replace(\"?\",\"C\",1)\n",
    "        tmp3=tmp2.replace(\"?\",\"G\",1)\n",
    "        s=tmp3.replace(\"?\",\"T\",1)\n",
    "    if s.count(\"A\")!=s.count(\"C\") or s.count(\"A\")!=s.count(\"G\") or s.count(\"A\")!=s.count(\"T\"):\n",
    "        return \"===\"\n",
    "        \n",
    "    return s\n",
    "        \n",
    "    \n",
    "n = int(input())  \n",
    "s = input()\n",
    "print(decoding(s))\n",
    "    "
   ]
  },
  {
   "cell_type": "code",
   "execution_count": null,
   "metadata": {},
   "outputs": [],
   "source": []
  },
  {
   "cell_type": "code",
   "execution_count": null,
   "metadata": {},
   "outputs": [],
   "source": []
  }
 ],
 "metadata": {
  "kernelspec": {
   "display_name": "Python 3",
   "language": "python",
   "name": "python3"
  },
  "language_info": {
   "codemirror_mode": {
    "name": "ipython",
    "version": 3
   },
   "file_extension": ".py",
   "mimetype": "text/x-python",
   "name": "python",
   "nbconvert_exporter": "python",
   "pygments_lexer": "ipython3",
   "version": "3.6.5"
  }
 },
 "nbformat": 4,
 "nbformat_minor": 2
}
