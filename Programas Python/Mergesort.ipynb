{
 "cells": [
  {
   "cell_type": "code",
   "execution_count": 5,
   "metadata": {},
   "outputs": [
    {
     "name": "stdout",
     "output_type": "stream",
     "text": [
      "1\n",
      "2\n",
      "4\n",
      "5\n",
      "8\n"
     ]
    }
   ],
   "source": [
    "#Eduardo Méndez\n",
    "#A01632947\n",
    "\n",
    "def mergesort(lista):\n",
    "    \n",
    "    if(len(lista)<=1):\n",
    "        return lista\n",
    "    \n",
    "    \n",
    "    m = len(lista)//2\n",
    "        \n",
    "    la = mergesort(lista[:m])\n",
    "    lb = mergesort(lista[m:])\n",
    "    return merge(la,lb)\n",
    "    \n",
    "    \n",
    "    \n",
    "    \n",
    "def merge(la,lb):\n",
    "    \n",
    "    lista = []\n",
    "    i = 0\n",
    "    j = 0\n",
    "    \n",
    "    while(i<len(la) and j<len(lb)):\n",
    "        if(la[i]<lb[j]):\n",
    "            lista.append(la[i])\n",
    "            i+=1\n",
    "        else:\n",
    "            lista.append(lb[j])\n",
    "            j+=1\n",
    "            \n",
    "    while(i<len(la)):\n",
    "        lista.append(la[i])\n",
    "        i+=1\n",
    "        \n",
    "    while(j<len(lb)):\n",
    "        lista.append(lb[j])\n",
    "        j+=1\n",
    "    \n",
    "    return lista\n",
    "        \n",
    "    \n",
    "    \n",
    "    \n",
    "\n",
    "la=[5,4,2,1,8]\n",
    "lc = mergesort(la)\n",
    "for n in lc:\n",
    "    print(n)\n",
    "\n",
    "\n",
    "        "
   ]
  },
  {
   "cell_type": "code",
   "execution_count": 36,
   "metadata": {},
   "outputs": [
    {
     "name": "stdout",
     "output_type": "stream",
     "text": [
      "4\n",
      "2\n"
     ]
    }
   ],
   "source": []
  },
  {
   "cell_type": "code",
   "execution_count": null,
   "metadata": {},
   "outputs": [],
   "source": []
  }
 ],
 "metadata": {
  "kernelspec": {
   "display_name": "Python 3",
   "language": "python",
   "name": "python3"
  },
  "language_info": {
   "codemirror_mode": {
    "name": "ipython",
    "version": 3
   },
   "file_extension": ".py",
   "mimetype": "text/x-python",
   "name": "python",
   "nbconvert_exporter": "python",
   "pygments_lexer": "ipython3",
   "version": "3.6.5"
  }
 },
 "nbformat": 4,
 "nbformat_minor": 2
}
