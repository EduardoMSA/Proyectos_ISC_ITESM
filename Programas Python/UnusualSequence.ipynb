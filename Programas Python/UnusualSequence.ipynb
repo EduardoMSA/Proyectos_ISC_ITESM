{
 "cells": [
  {
   "cell_type": "code",
   "execution_count": 36,
   "metadata": {},
   "outputs": [
    {
     "name": "stdout",
     "output_type": "stream",
     "text": [
      "3 9\n",
      "3\n"
     ]
    }
   ],
   "source": [
    "import math\n",
    "\n",
    "def UnusualSeq(a,b):\n",
    "    if b%a!=0:\n",
    "        print(0)\n",
    "    else:\n",
    "        b//=a\n",
    "        d=set()\n",
    "        for i in range(1,int(math.sqrt(b)+1)):\n",
    "            if b%i==0:\n",
    "                d.add(i)\n",
    "                d.add(b//i)\n",
    "        d=sorted(list(d))\n",
    "        f=d[::]\n",
    "        for i in range(len(f)):\n",
    "            f[i]=pow(2,d[i]-1,(10**9+7))\n",
    "            for j in range(i):\n",
    "                if d[i]%d[j]==0:\n",
    "                    f[i]-=f[j]\n",
    "        print(f[-1]%(10**9+7))\n",
    "\n",
    "\n",
    "a,b=map(int,input().split())\n",
    "UnusualSeq(a,b)\n"
   ]
  },
  {
   "cell_type": "code",
   "execution_count": null,
   "metadata": {},
   "outputs": [],
   "source": []
  }
 ],
 "metadata": {
  "kernelspec": {
   "display_name": "Python 3",
   "language": "python",
   "name": "python3"
  },
  "language_info": {
   "codemirror_mode": {
    "name": "ipython",
    "version": 3
   },
   "file_extension": ".py",
   "mimetype": "text/x-python",
   "name": "python",
   "nbconvert_exporter": "python",
   "pygments_lexer": "ipython3",
   "version": "3.6.5"
  }
 },
 "nbformat": 4,
 "nbformat_minor": 2
}
