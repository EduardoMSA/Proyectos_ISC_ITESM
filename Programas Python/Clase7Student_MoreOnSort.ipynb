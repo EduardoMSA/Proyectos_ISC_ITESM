{
 "cells": [
  {
   "cell_type": "markdown",
   "metadata": {},
   "source": [
    "### ¿Qué algoritmo es?"
   ]
  },
  {
   "cell_type": "code",
   "execution_count": 1,
   "metadata": {},
   "outputs": [
    {
     "name": "stdout",
     "output_type": "stream",
     "text": [
      "[1, 2, 3, 5, 18, 67, 72]\n"
     ]
    }
   ],
   "source": [
    "def unknown(x):\n",
    "    for i in range(1,len(x)):\n",
    "        aux = x[i]\n",
    "        j=i-1\n",
    "        while(j>=0 and aux<x[j]):\n",
    "            x[j+1] = x[j]\n",
    "            j=j-1\n",
    "        x[j+1] = aux\n",
    "    return x\n",
    "\n",
    "lista = [67,72,2,1,5,3,18]\n",
    "print(unknown(lista))\n",
    "            \n",
    "                \n",
    "        "
   ]
  },
  {
   "cell_type": "markdown",
   "metadata": {},
   "source": []
  },
  {
   "cell_type": "code",
   "execution_count": 5,
   "metadata": {},
   "outputs": [
    {
     "name": "stdout",
     "output_type": "stream",
     "text": [
      "[1, 2, 4, 4]\n"
     ]
    }
   ],
   "source": [
    "print(unknown([4,1,4,2]))"
   ]
  },
  {
   "cell_type": "code",
   "execution_count": null,
   "metadata": {},
   "outputs": [],
   "source": []
  },
  {
   "cell_type": "code",
   "execution_count": null,
   "metadata": {},
   "outputs": [],
   "source": []
  },
  {
   "cell_type": "code",
   "execution_count": null,
   "metadata": {},
   "outputs": [],
   "source": []
  },
  {
   "cell_type": "code",
   "execution_count": null,
   "metadata": {},
   "outputs": [],
   "source": []
  },
  {
   "cell_type": "markdown",
   "metadata": {},
   "source": [
    "1. ¿Cuál es la complejidad del algoritmo InsertionSort si el array está ordenado (ascendente)? \n",
    "2. ¿Cuál es la complejidad del algoritmo Insertion Sort si el array está en orden descendente? \n",
    "3. ¿El algoritmo insertion sort es estable o inestable? \n",
    "4. ¿Insertion sort es \"in-place\" o \"not in-place\"? \n"
   ]
  },
  {
   "cell_type": "markdown",
   "metadata": {},
   "source": [
    "## Insertion Sort is considered to be \"better\" than Selection sort and Bubble sort, ¿será cierto?"
   ]
  },
  {
   "cell_type": "markdown",
   "metadata": {},
   "source": [
    "# TAREAS"
   ]
  },
  {
   "cell_type": "markdown",
   "metadata": {},
   "source": [
    "### - Tarea1 (Individual): ¿Cuál es la complejidad del algoritmo insertion sort si el array está en orden aleatorio?\n"
   ]
  },
  {
   "cell_type": "markdown",
   "metadata": {},
   "source": [
    "### ¿Que Algoritmo es?"
   ]
  },
  {
   "cell_type": "code",
   "execution_count": 12,
   "metadata": {},
   "outputs": [
    {
     "name": "stdout",
     "output_type": "stream",
     "text": [
      "Define el maximo delta de incremento impar : 5\n",
      "[2, 2, 3, 4, 5, 8, 12, 13, 15, 17, 19, 32, 33, 54, 68, 72]\n"
     ]
    }
   ],
   "source": [
    "def unknown2(x): \n",
    "    h = int(input(\"Define el maximo delta de incremento impar : \"))\n",
    "    while h>=1:\n",
    "        for i in range(h,len(x)):\n",
    "            aux = x[i]\n",
    "            j=i-h\n",
    "            while(j>=0 and aux<x[j]):\n",
    "                x[j+h] = x[j]\n",
    "                j=j-h\n",
    "            x[j+h] = aux\n",
    "        h=h-2\n",
    "    return x\n",
    "\n",
    "\n",
    "lista = [68, 54, 72, 33, 2, 4, 2, 12 , 15, 17, 19, 32, 3, 5, 8, 13]\n",
    "z = unknown2(lista)   \n",
    "print(z)\n"
   ]
  },
  {
   "cell_type": "code",
   "execution_count": null,
   "metadata": {},
   "outputs": [],
   "source": []
  },
  {
   "cell_type": "code",
   "execution_count": null,
   "metadata": {},
   "outputs": [],
   "source": []
  },
  {
   "cell_type": "code",
   "execution_count": null,
   "metadata": {},
   "outputs": [],
   "source": []
  },
  {
   "cell_type": "code",
   "execution_count": null,
   "metadata": {},
   "outputs": [],
   "source": []
  },
  {
   "cell_type": "markdown",
   "metadata": {},
   "source": [
    "- Shell Sort is Unstable\n",
    "- Shell Sort is in-place sort\n"
   ]
  },
  {
   "cell_type": "markdown",
   "metadata": {},
   "source": [
    "# TAREA"
   ]
  },
  {
   "cell_type": "markdown",
   "metadata": {},
   "source": [
    "### Tarea 2 (Por equipo [para presentar]): Calcular la complejidad del algoritmo shell sort"
   ]
  },
  {
   "cell_type": "code",
   "execution_count": null,
   "metadata": {},
   "outputs": [],
   "source": []
  },
  {
   "cell_type": "code",
   "execution_count": 17,
   "metadata": {},
   "outputs": [],
   "source": [
    "def unknown3(x): \n",
    "    for i in range(len(x)-1, 0, -1):\n",
    "        for j in range(i):\n",
    "            if x[j]>x[j+1]:\n",
    "                x[j],x[j+1]=x[j+1],x[j]\n",
    "    return x"
   ]
  },
  {
   "cell_type": "code",
   "execution_count": 18,
   "metadata": {},
   "outputs": [],
   "source": [
    "lista = [68, 54, 72, 33, 2, 4]"
   ]
  },
  {
   "cell_type": "code",
   "execution_count": 19,
   "metadata": {},
   "outputs": [
    {
     "name": "stdout",
     "output_type": "stream",
     "text": [
      "[2, 4, 33, 54, 68, 72]\n"
     ]
    }
   ],
   "source": [
    "print(unknown3(lista))"
   ]
  },
  {
   "cell_type": "markdown",
   "metadata": {},
   "source": [
    "Bubble Sort is:\n",
    "- data sensitive\n",
    "\n"
   ]
  },
  {
   "cell_type": "markdown",
   "metadata": {},
   "source": [
    "- Cuál es la complejidad de Bubble sort si los datos están ordenados?\n",
    "- ¿Cuál es su complejidad si están en orden descendente?"
   ]
  },
  {
   "cell_type": "markdown",
   "metadata": {},
   "source": [
    "# TAREA"
   ]
  },
  {
   "cell_type": "markdown",
   "metadata": {},
   "source": [
    "### - Tarea3 (Individual): Crear arrays aleatorio de los tamaños n = 10, n = 20, n = 30, n = 40 y n = 50 y ordenarlos con:\n",
    "        - Insertion, Selection, Bubble Y Shell Sort. Graficar sus tiempos de ejecución."
   ]
  },
  {
   "cell_type": "code",
   "execution_count": null,
   "metadata": {},
   "outputs": [],
   "source": []
  },
  {
   "cell_type": "code",
   "execution_count": null,
   "metadata": {},
   "outputs": [],
   "source": [
    "#Bottom-Up MErge Sort (Iterative)"
   ]
  },
  {
   "cell_type": "code",
   "execution_count": null,
   "metadata": {},
   "outputs": [],
   "source": []
  },
  {
   "cell_type": "code",
   "execution_count": null,
   "metadata": {},
   "outputs": [],
   "source": []
  },
  {
   "cell_type": "markdown",
   "metadata": {},
   "source": [
    "### RETO por equipo: Implementa el algoritmo de la siguiente figura y grafica su running time para n desde 1 hasta 50"
   ]
  },
  {
   "cell_type": "markdown",
   "metadata": {},
   "source": [
    "<img src = \"CURSOS/BottomUp_Merge.png\">"
   ]
  },
  {
   "cell_type": "markdown",
   "metadata": {},
   "source": [
    "<img src = \"CURSOS/BottomUp_Merge2.png\">"
   ]
  },
  {
   "cell_type": "code",
   "execution_count": null,
   "metadata": {},
   "outputs": [],
   "source": []
  }
 ],
 "metadata": {
  "kernelspec": {
   "display_name": "Python 3",
   "language": "python",
   "name": "python3"
  },
  "language_info": {
   "codemirror_mode": {
    "name": "ipython",
    "version": 3
   },
   "file_extension": ".py",
   "mimetype": "text/x-python",
   "name": "python",
   "nbconvert_exporter": "python",
   "pygments_lexer": "ipython3",
   "version": "3.6.5"
  }
 },
 "nbformat": 4,
 "nbformat_minor": 2
}
