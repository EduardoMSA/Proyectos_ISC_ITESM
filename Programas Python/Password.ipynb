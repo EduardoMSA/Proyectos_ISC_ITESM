{
 "cells": [
  {
   "cell_type": "code",
   "execution_count": 13,
   "metadata": {},
   "outputs": [
    {
     "name": "stdout",
     "output_type": "stream",
     "text": [
      "abcdabc\n",
      "Just a legend\n"
     ]
    }
   ],
   "source": [
    "def Password(s):\n",
    "    for i in range(len(s)-1,0,-1):\n",
    "        if (s[i-1] != s[len(s)-1]) or (s[0]!=s[len(s)-i]):\n",
    "            continue\n",
    "        prefix = s[0:i]\n",
    "        suffix = s[len(s)-i:len(s)]\n",
    "        if prefix!=suffix:\n",
    "            continue\n",
    "        obelix = prefix in s[1:len(s)-1]\n",
    "        if not obelix:\n",
    "            continue\n",
    "        return prefix\n",
    "    return \"Just a legend\"\n",
    "            \n",
    "s = input()\n",
    "print(Password(s))"
   ]
  },
  {
   "cell_type": "code",
   "execution_count": null,
   "metadata": {},
   "outputs": [],
   "source": []
  },
  {
   "cell_type": "code",
   "execution_count": null,
   "metadata": {},
   "outputs": [],
   "source": []
  }
 ],
 "metadata": {
  "kernelspec": {
   "display_name": "Python 3",
   "language": "python",
   "name": "python3"
  },
  "language_info": {
   "codemirror_mode": {
    "name": "ipython",
    "version": 3
   },
   "file_extension": ".py",
   "mimetype": "text/x-python",
   "name": "python",
   "nbconvert_exporter": "python",
   "pygments_lexer": "ipython3",
   "version": "3.6.5"
  }
 },
 "nbformat": 4,
 "nbformat_minor": 2
}
