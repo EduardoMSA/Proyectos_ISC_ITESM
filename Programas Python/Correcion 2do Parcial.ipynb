{
 "cells": [
  {
   "cell_type": "code",
   "execution_count": 36,
   "metadata": {},
   "outputs": [
    {
     "data": {
      "text/plain": [
       "1"
      ]
     },
     "execution_count": 36,
     "metadata": {},
     "output_type": "execute_result"
    }
   ],
   "source": [
    "def remplazos(serie):\n",
    "    \n",
    "    Z = [0]*len(serie)\n",
    "    \n",
    "    for i in range(len(serie)):\n",
    "        Z[i]=serie[i]-(i+1)\n",
    "    \n",
    "    Z = [x for x in Z if x == 0]\n",
    "    \n",
    "    cambiosMinimos = len(serie)-len(Z)\n",
    "    \n",
    "    return (cambiosMinimos)\n",
    "\n",
    "a = [1,3,3,4]\n",
    "remplazos(a)\n",
    "    \n",
    "    "
   ]
  },
  {
   "cell_type": "code",
   "execution_count": 31,
   "metadata": {},
   "outputs": [
    {
     "data": {
      "text/plain": [
       "9"
      ]
     },
     "execution_count": 31,
     "metadata": {},
     "output_type": "execute_result"
    }
   ],
   "source": [
    "def huevos(nidos):\n",
    "    \n",
    "    maximo = [0]*len(nidos)\n",
    "    maximo[-1] = nidos[-1]\n",
    "    maximo[-2] = nidos[-2]\n",
    "    for i in range(len(maximo)-3,-1,-1):\n",
    "        tmp1 = nidos[i]+nidos[i+2]\n",
    "        tmp2 = 0\n",
    "        if i+3<len(maximo):\n",
    "            tmp2 = nidos[i]+nidos[i+3]\n",
    "        if tmp1>tmp2:\n",
    "            maximo[i]=tmp1\n",
    "        else:\n",
    "            maximo[i]=tmp2\n",
    "    \n",
    "    if maximo[0]>maximo[1]:\n",
    "        return maximo[0]\n",
    "    else:\n",
    "        return maximo[1]\n",
    "    \n",
    "\n",
    "a = [2,8,4,1]\n",
    "huevos(a)"
   ]
  },
  {
   "cell_type": "code",
   "execution_count": null,
   "metadata": {},
   "outputs": [],
   "source": []
  }
 ],
 "metadata": {
  "kernelspec": {
   "display_name": "Python 3",
   "language": "python",
   "name": "python3"
  },
  "language_info": {
   "codemirror_mode": {
    "name": "ipython",
    "version": 3
   },
   "file_extension": ".py",
   "mimetype": "text/x-python",
   "name": "python",
   "nbconvert_exporter": "python",
   "pygments_lexer": "ipython3",
   "version": "3.6.5"
  }
 },
 "nbformat": 4,
 "nbformat_minor": 2
}
