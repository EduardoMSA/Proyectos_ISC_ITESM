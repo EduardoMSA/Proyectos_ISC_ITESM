{
 "cells": [
  {
   "cell_type": "code",
   "execution_count": 3,
   "metadata": {},
   "outputs": [
    {
     "name": "stdout",
     "output_type": "stream",
     "text": [
      "True\n"
     ]
    }
   ],
   "source": [
    "def compara(lista, numero):\n",
    "    for n in lista:\n",
    "        if n == numero:\n",
    "            return True\n",
    "    return False\n",
    "\n",
    "lista = {1,2,3}\n",
    "numero = 1\n",
    "print(compara(lista, numero))"
   ]
  },
  {
   "cell_type": "code",
   "execution_count": 5,
   "metadata": {},
   "outputs": [
    {
     "name": "stdout",
     "output_type": "stream",
     "text": [
      "False\n"
     ]
    }
   ],
   "source": [
    "def compara(lista, numero):\n",
    "    if numero in lista:\n",
    "            return True\n",
    "    return False\n",
    "\n",
    "lista = {1,2,3}\n",
    "numero = 4\n",
    "print(compara(lista, numero))"
   ]
  },
  {
   "cell_type": "code",
   "execution_count": null,
   "metadata": {},
   "outputs": [],
   "source": []
  },
  {
   "cell_type": "code",
   "execution_count": 47,
   "metadata": {},
   "outputs": [
    {
     "name": "stdout",
     "output_type": "stream",
     "text": [
      "15\n"
     ]
    }
   ],
   "source": [
    "def maxMult(lista):\n",
    "    max = 0\n",
    "    for x in range(len(lista)):\n",
    "        for y in range(x+1,len(lista)):\n",
    "            tmp = lista[x] * lista[y]\n",
    "            if(tmp>max):\n",
    "                max=tmp\n",
    "    return max\n",
    "\n",
    "a = [5,2,3]\n",
    "print(maxMult(a))"
   ]
  },
  {
   "cell_type": "code",
   "execution_count": 34,
   "metadata": {},
   "outputs": [
    {
     "ename": "SyntaxError",
     "evalue": "invalid syntax (<ipython-input-34-141418929d14>, line 2)",
     "output_type": "error",
     "traceback": [
      "\u001b[1;36m  File \u001b[1;32m\"<ipython-input-34-141418929d14>\"\u001b[1;36m, line \u001b[1;32m2\u001b[0m\n\u001b[1;33m    print(lista{2})\u001b[0m\n\u001b[1;37m               ^\u001b[0m\n\u001b[1;31mSyntaxError\u001b[0m\u001b[1;31m:\u001b[0m invalid syntax\n"
     ]
    }
   ],
   "source": [
    "lista = {1,2,3}\n",
    "print(lista)"
   ]
  },
  {
   "cell_type": "code",
   "execution_count": 39,
   "metadata": {},
   "outputs": [
    {
     "name": "stdout",
     "output_type": "stream",
     "text": [
      "2 , 3\n",
      "2 , 4\n",
      "2 , 5\n",
      "3 , 4\n",
      "3 , 5\n",
      "4 , 5\n",
      "\n"
     ]
    }
   ],
   "source": [
    "def pares(num):\n",
    "    #print(\"Ejercicio 3\")\n",
    "    for x in range (0, len(num)):\n",
    "        for y in range(x+1, len(num)):\n",
    "            print(num[x] , \",\" , num[y])\n",
    "    print()\n",
    "\n",
    "lista = [2,3,4,5]\n",
    "pares(lista)"
   ]
  },
  {
   "cell_type": "code",
   "execution_count": null,
   "metadata": {},
   "outputs": [],
   "source": []
  }
 ],
 "metadata": {
  "kernelspec": {
   "display_name": "Python 3",
   "language": "python",
   "name": "python3"
  },
  "language_info": {
   "codemirror_mode": {
    "name": "ipython",
    "version": 3
   },
   "file_extension": ".py",
   "mimetype": "text/x-python",
   "name": "python",
   "nbconvert_exporter": "python",
   "pygments_lexer": "ipython3",
   "version": "3.6.5"
  }
 },
 "nbformat": 4,
 "nbformat_minor": 2
}
