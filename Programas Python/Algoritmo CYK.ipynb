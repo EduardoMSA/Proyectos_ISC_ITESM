{
 "cells": [
  {
   "cell_type": "code",
   "execution_count": 6,
   "metadata": {},
   "outputs": [
    {
     "name": "stdout",
     "output_type": "stream",
     "text": [
      "bab\n",
      "False\n",
      "['B']\n",
      "['ø'] ['A']\n",
      "['ø'] ['S'] ['B']\n"
     ]
    }
   ],
   "source": [
    "\n",
    "#Generadores\n",
    "S = [\"AB\",\"SS\",\"AC\",\"BD\"]\n",
    "B = [\"b\"]\n",
    "A = [\"a\"]\n",
    "C = [\"SB\"]\n",
    "D = [\"SA\"]\n",
    "\n",
    "#Simbolos Terminales\n",
    "T = {'a':\"A\",'b':\"B\"}\n",
    "\n",
    "#Inicial\n",
    "inicial = 'S'\n",
    "\n",
    "#Gramatica\n",
    "G = {'S':S,'B':B,'A':A,'C':C,'D':D}\n",
    "\n",
    "def cyk(G,T,cadena):\n",
    "    \n",
    "    tabla = [None]*len(cadena)\n",
    "    for i in range(len(tabla)):\n",
    "        tabla[i] = [None]*(i+1)\n",
    "    \n",
    "    for i in range(len(cadena)):\n",
    "        tabla[i][i]=[T[cadena[i]]]\n",
    "    \n",
    "    for j in range(1,len(tabla)):\n",
    "        for i in range(j,len(tabla)):\n",
    "            depth = len(tabla[i])-j-1\n",
    "            tabla[i][depth] = str(i)+str(j)\n",
    "            \n",
    "            tmp1 = []\n",
    "            for k in range(i):\n",
    "                  if depth+1<=len(tabla[k]):\n",
    "                        tmp1.append(tabla[k][depth])      \n",
    "            tmp2 = tabla[i][1+depth:]\n",
    "            tabla[i][depth] = verificar(tmp1,tmp2)\n",
    "    \n",
    "    resultado = tabla[-1][0]\n",
    "    if inicial in resultado:\n",
    "        print(True) #Cadena aceptada por gramatica\n",
    "    else:\n",
    "        print(False)\n",
    "            \n",
    "        \n",
    "    \n",
    "    return tabla\n",
    "        \n",
    "def verificar(x,y):\n",
    "    tmp = []\n",
    "    posibilidades = []\n",
    "    \n",
    "    \n",
    "    for i in range(len(x)):\n",
    "            for k in x[i]:\n",
    "                for l in y[-i-1]:\n",
    "                    tmp.append(k+l)\n",
    "    \n",
    "    for i in tmp:\n",
    "        for g in G:\n",
    "            if i in G[g] and g not in posibilidades:\n",
    "                posibilidades.append(g)\n",
    "                \n",
    "    if len(posibilidades)==0:\n",
    "        posibilidades.append('ø')\n",
    "    \n",
    "    return posibilidades\n",
    "\n",
    "cadena = input()\n",
    "a = cyk(G,T,cadena)\n",
    "\n",
    "for row in a:\n",
    "    print(' '.join(map(str,row)))"
   ]
  },
  {
   "cell_type": "code",
   "execution_count": null,
   "metadata": {},
   "outputs": [],
   "source": []
  },
  {
   "cell_type": "code",
   "execution_count": null,
   "metadata": {},
   "outputs": [],
   "source": []
  }
 ],
 "metadata": {
  "kernelspec": {
   "display_name": "Python 3",
   "language": "python",
   "name": "python3"
  },
  "language_info": {
   "codemirror_mode": {
    "name": "ipython",
    "version": 3
   },
   "file_extension": ".py",
   "mimetype": "text/x-python",
   "name": "python",
   "nbconvert_exporter": "python",
   "pygments_lexer": "ipython3",
   "version": "3.6.5"
  }
 },
 "nbformat": 4,
 "nbformat_minor": 2
}
