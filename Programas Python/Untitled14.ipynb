{
 "cells": [
  {
   "cell_type": "code",
   "execution_count": 1,
   "metadata": {},
   "outputs": [
    {
     "name": "stdout",
     "output_type": "stream",
     "text": [
      "aaaaaaaaaa\n",
      "aaaaaaaa\n"
     ]
    }
   ],
   "source": [
    "def Suffix(t,s):\n",
    "    if t==s[:len(t)]:\n",
    "        return True\n",
    "    return False\n",
    "def Preffix(t,s):\n",
    "    if t==s[-len(t):]:\n",
    "        return True\n",
    "    return False\n",
    "def Obelix(t,s):\n",
    "    obel=s[1:-1]\n",
    "    if t in obel:\n",
    "        return True\n",
    "    return False\n",
    "def Password(s):\n",
    "    for i in range(len(s)-1,0,-1):\n",
    "        t = s[:i]\n",
    "        if Suffix(t,s) and Preffix(t,s) and Obelix(t,s):\n",
    "            return t\n",
    "    return \"Just a legend\"\n",
    "\n",
    "s = input()\n",
    "print(Password(s))"
   ]
  },
  {
   "cell_type": "code",
   "execution_count": null,
   "metadata": {},
   "outputs": [],
   "source": []
  }
 ],
 "metadata": {
  "kernelspec": {
   "display_name": "Python 3",
   "language": "python",
   "name": "python3"
  },
  "language_info": {
   "codemirror_mode": {
    "name": "ipython",
    "version": 3
   },
   "file_extension": ".py",
   "mimetype": "text/x-python",
   "name": "python",
   "nbconvert_exporter": "python",
   "pygments_lexer": "ipython3",
   "version": "3.6.5"
  }
 },
 "nbformat": 4,
 "nbformat_minor": 2
}
