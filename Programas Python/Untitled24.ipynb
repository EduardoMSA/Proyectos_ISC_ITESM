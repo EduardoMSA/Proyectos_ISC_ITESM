{
 "cells": [
  {
   "cell_type": "code",
   "execution_count": 33,
   "metadata": {},
   "outputs": [
    {
     "name": "stdout",
     "output_type": "stream",
     "text": [
      "[[-inf, -inf, -inf, -inf], [-inf, -inf, -inf, -inf], [-inf, -inf, -inf, -inf], [-inf, -inf, -inf, -inf]]\n",
      "No hay ciclos negativos\n",
      "[[0, -1, -2, 0], [4, 0, 2, 4], [5, 1, 0, 2], [3, -1, 1, 0]]\n",
      "[[-inf, -inf, -inf], [inf, -inf, -inf], [inf, -inf, -inf]]\n",
      "Hay ciclos negativos en los siguientes vertices: \n",
      "1\n",
      "2\n",
      "[[0, 2], [1, 2, 0], [2, 3], [3, 1]]\n"
     ]
    }
   ],
   "source": [
    "import math\n",
    "def FW(n, vertices):\n",
    "    dist = [[math.inf for i in range(n)] for j in range(n)]\n",
    "    dist2= [[math.inf for i in range(n)] for j in range(n)]\n",
    "    for i in range(n):\n",
    "        dist[i][i] = 0\n",
    "        dist2[i][i] = -math.inf\n",
    "    for vertex in vertices:\n",
    "        dist[vertex[0]][vertex[1]]=vertex[2]\n",
    "        dist2[vertex[0]][vertex[1]]=vertex[2]\n",
    "    \n",
    "    \n",
    "    \n",
    "    ciclos_positivos =[]\n",
    "    for k in range(n):\n",
    "        for i in range(n):\n",
    "            for j in range(n):\n",
    "                if dist[i][j]>(dist[i][k]+dist[k][j]):\n",
    "                    dist[i][j]=dist[i][k]+dist[k][j]\n",
    "                if dist2[i][j]>(dist2[i][k]+dist2[k][j]):\n",
    "                    dist2[i][j]=dist2[i][k]+dist2[k][j]\n",
    "                    \n",
    "                    \n",
    "                \n",
    "    ciclos_negativos=[]\n",
    "    for i in range(n):\n",
    "        if dist[i][i]<0:\n",
    "            ciclos_negativos.append(i)\n",
    "            \n",
    "    print(dist2)\n",
    "    \n",
    "    if len(ciclos_negativos)>0:\n",
    "        print(\"Hay ciclos negativos en los siguientes vertices: \")\n",
    "        for i in ciclos_negativos:\n",
    "            print(i)\n",
    "    else:\n",
    "        print(\"No hay ciclos negativos\")\n",
    "        print(dist)\n",
    "\n",
    "def kurskal(n,vertices):\n",
    "    vertices.sort(key=lambda x: x[2])\n",
    "    \n",
    "def dfs_cycle(n,vertices,start):\n",
    "    graph = []\n",
    "    for i in range(n):\n",
    "        graph.append([i])\n",
    "    for vertex in vertices:\n",
    "        graph[vertex[0]].append(vertex[1])\n",
    "    \n",
    "    visited, stack = []\n",
    "    visited.append(start)\n",
    "    for i in range(1,len(graph[start])):\n",
    "        stack.append()\n",
    "    while len(stack)>0:\n",
    "        \n",
    "        \n",
    "    \n",
    "    \n",
    "    return visited\n",
    "    \n",
    "    \n",
    "            \n",
    "\n",
    "vertices = [[0,2,-2],[2,3,2],[3,1,-1],[1,2,3],[1,0,4]]\n",
    "vertices2 = [[0,1,1],[1,2,1],[2,1,-2]]\n",
    "\n",
    "\n",
    "FW(4,vertices)\n",
    "FW(3,vertices2)\n",
    "\n",
    "print(dfs_cycle(4,vertices))\n",
    "\n"
   ]
  },
  {
   "cell_type": "code",
   "execution_count": null,
   "metadata": {},
   "outputs": [],
   "source": []
  },
  {
   "cell_type": "code",
   "execution_count": null,
   "metadata": {},
   "outputs": [],
   "source": []
  }
 ],
 "metadata": {
  "kernelspec": {
   "display_name": "Python 3",
   "language": "python",
   "name": "python3"
  },
  "language_info": {
   "codemirror_mode": {
    "name": "ipython",
    "version": 3
   },
   "file_extension": ".py",
   "mimetype": "text/x-python",
   "name": "python",
   "nbconvert_exporter": "python",
   "pygments_lexer": "ipython3",
   "version": "3.6.5"
  }
 },
 "nbformat": 4,
 "nbformat_minor": 2
}
