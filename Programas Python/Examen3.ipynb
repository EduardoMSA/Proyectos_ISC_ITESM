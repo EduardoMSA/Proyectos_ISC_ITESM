{
 "cells": [
  {
   "cell_type": "code",
   "execution_count": 5,
   "metadata": {},
   "outputs": [],
   "source": [
    "import numpy as np"
   ]
  },
  {
   "cell_type": "code",
   "execution_count": 18,
   "metadata": {},
   "outputs": [],
   "source": [
    "M = np.matrix([[0,0,0,0,0,8,0,0,0,0,0,0,0,0,0,0,0,0],\n",
    "              [7,0,3,0,0,0,0,0,0,0,0,0,0,0,0,0,0,0],\n",
    "              [0,0,0,2,0,0,0,0,0,0,0,0,0,0,0,0,0,0],\n",
    "              [0,0,0,0,-1,0,3,0,0,0,0,3,0,0,0,0,0,0],\n",
    "              [0,0,0,0,0,4,0,0,0,0,0,0,0,0,0,0,0,0],\n",
    "              [0,0,0,0,0,0,0,0,0,0,0,0,0,0,0,0,0,0],\n",
    "              [0,0,0,0,0,0,0,-4,0,1,0,0,0,0,0,0,0,0],\n",
    "              [0,0,0,0,0,5,0,0,0,3,1,0,0,0,0,0,0,0],\n",
    "              [0,0,0,-1,0,0,0,0,0,0,0,0,0,0,0,0,0,0],\n",
    "              [0,0,0,0,0,0,0,0,-2,0,0,0,0,0,0,0,0,0],\n",
    "              [0,0,0,0,0,0,0,0,0,2,0,0,0,0,0,0,0,0],\n",
    "              [0,0,0,0,0,0,0,0,0,0,0,0,-1,0,0,0,0,0],\n",
    "              [0,0,0,0,0,-4,0,0,0,0,0,0,0,0,0,0,0,0],\n",
    "              [0,0,0,0,0,0,0,0,0,0,0,0,0,0,0,0,0,0],\n",
    "              [0,0,0,0,0,0,0,0,0,0,0,0,0,0,0,-1,0,1],\n",
    "              [0,0,0,0,0,0,0,0,0,0,0,0,0,0,0,0,3,1],\n",
    "              [0,0,0,0,0,0,0,0,0,0,0,0,0,0,-4,0,0,1],\n",
    "              [0,0,0,0,0,0,0,0,0,0,0,0,0,0,0,0,0,0],\n",
    "              ])"
   ]
  },
  {
   "cell_type": "code",
   "execution_count": 19,
   "metadata": {},
   "outputs": [
    {
     "data": {
      "text/plain": [
       "(18, 18)"
      ]
     },
     "execution_count": 19,
     "metadata": {},
     "output_type": "execute_result"
    }
   ],
   "source": [
    "M.shape"
   ]
  },
  {
   "cell_type": "markdown",
   "metadata": {},
   "source": [
    "# Instrucciones"
   ]
  },
  {
   "cell_type": "markdown",
   "metadata": {},
   "source": [
    "Para el grafo (dirigido)  representado arriba encontrar lo siguiente:"
   ]
  },
  {
   "cell_type": "code",
   "execution_count": null,
   "metadata": {},
   "outputs": [],
   "source": [
    "1) El número de ciclos negativos  y una lista con cada ciclo encontrado\n",
    "2) el número de ciclos positivos y una lista con cada ciclo encontrado\n",
    "3) el camino más corto entre el nodo0 y nodo5\n",
    "4) el camino más corto entre el nodo1 y nodo5\n",
    "5)* Los strongly connected components "
   ]
  }
 ],
 "metadata": {
  "kernelspec": {
   "display_name": "Python 3",
   "language": "python",
   "name": "python3"
  },
  "language_info": {
   "codemirror_mode": {
    "name": "ipython",
    "version": 3
   },
   "file_extension": ".py",
   "mimetype": "text/x-python",
   "name": "python",
   "nbconvert_exporter": "python",
   "pygments_lexer": "ipython3",
   "version": "3.6.5"
  }
 },
 "nbformat": 4,
 "nbformat_minor": 2
}
