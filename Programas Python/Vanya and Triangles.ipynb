{
 "cells": [
  {
   "cell_type": "code",
   "execution_count": 26,
   "metadata": {},
   "outputs": [
    {
     "name": "stdout",
     "output_type": "stream",
     "text": [
      "4\n",
      "0 0\n",
      "1 1\n",
      "1 2\n",
      "2 2\n",
      "3\n"
     ]
    }
   ],
   "source": [
    "def getArea(puntos):\n",
    "    a = 0\n",
    "    for i in range(len(puntos)):\n",
    "        a+= (puntos[i][0]*puntos[(i+1)%len(puntos)][1])-(puntos[(i+1)%len(puntos)][0]*puntos[i][1])\n",
    "    return a/2\n",
    "\n",
    "n = int(input())\n",
    "puntos=[]\n",
    "for i in range(n):\n",
    "    a = list(map(int,input().split()))\n",
    "    puntos.append(a)\n",
    "cuenta = 0\n",
    "for i in range(len(puntos)):\n",
    "    for j in range(i+1,len(puntos)):\n",
    "        for k in range(j+1, len(puntos)):\n",
    "            tmp = [puntos[i],puntos[j],puntos[k]]\n",
    "            if (tmp[0][0]==tmp[1][0] and tmp[0][0]==tmp[2][0]) or (tmp[0][1]==tmp[1][1] and tmp[0][1]==tmp[2][1]):\n",
    "                continue\n",
    "            if getArea(tmp)!=0:\n",
    "                cuenta+=1\n",
    "\n",
    "print(cuenta)\n",
    "\n",
    "            \n",
    "    \n"
   ]
  },
  {
   "cell_type": "code",
   "execution_count": null,
   "metadata": {},
   "outputs": [],
   "source": []
  },
  {
   "cell_type": "code",
   "execution_count": null,
   "metadata": {},
   "outputs": [],
   "source": []
  }
 ],
 "metadata": {
  "kernelspec": {
   "display_name": "Python 3",
   "language": "python",
   "name": "python3"
  },
  "language_info": {
   "codemirror_mode": {
    "name": "ipython",
    "version": 3
   },
   "file_extension": ".py",
   "mimetype": "text/x-python",
   "name": "python",
   "nbconvert_exporter": "python",
   "pygments_lexer": "ipython3",
   "version": "3.6.5"
  }
 },
 "nbformat": 4,
 "nbformat_minor": 2
}
