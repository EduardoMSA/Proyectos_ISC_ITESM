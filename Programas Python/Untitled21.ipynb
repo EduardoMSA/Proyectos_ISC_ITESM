{
 "cells": [
  {
   "cell_type": "code",
   "execution_count": 63,
   "metadata": {},
   "outputs": [
    {
     "data": {
      "text/plain": [
       "2"
      ]
     },
     "execution_count": 63,
     "metadata": {},
     "output_type": "execute_result"
    }
   ],
   "source": [
    "def candles(n,k,a):\n",
    "    T=[[]]*(k+1)\n",
    "    T[0]=0\n",
    "    T[1]=a\n",
    "    tmp = [0,1]\n",
    "    for i in range(len(T[1])):\n",
    "        for j in range(len(T[1])):\n",
    "            if i==j:\n",
    "                continue\n",
    "            if (abs(T[1][i]-T[1][j]))<abs((a[tmp[0]]-a[tmp[1]])):\n",
    "                tmp[0]=i\n",
    "                tmp[1]=j\n",
    "    T[2]=tmp\n",
    "    for i in range(3,k+1):\n",
    "        T[i]=T[i-1].copy()\n",
    "        for j in range(len(a)):\n",
    "            if j in T[i]:\n",
    "                continue\n",
    "            T[i].append(j)\n",
    "            break\n",
    "        for j in range(len(a)):\n",
    "            if j in T[i]:\n",
    "                continue\n",
    "            aux=T[i-1].copy()\n",
    "            aux.append(j)\n",
    "            if diferencia(T[i],a)>diferencia(aux,a):\n",
    "                T[i]=aux\n",
    "    return diferencia(T[-1],a)\n",
    "                \n",
    "def diferencia(T,a):\n",
    "    dif = 0\n",
    "    for i in range(len(T)):\n",
    "        for j in range(i,len(T)):\n",
    "            dif+= abs(a[T[i]]-a[T[j]])\n",
    "    return dif\n",
    "                    \n",
    "            \n",
    "            \n",
    "    \n",
    "a = [3,3,4,5,7,9,10]\n",
    "diferencia(b,a)\n",
    "candles(7,3,a)\n",
    "            \n",
    "            \n",
    "    "
   ]
  },
  {
   "cell_type": "code",
   "execution_count": null,
   "metadata": {},
   "outputs": [],
   "source": []
  },
  {
   "cell_type": "code",
   "execution_count": null,
   "metadata": {},
   "outputs": [],
   "source": []
  }
 ],
 "metadata": {
  "kernelspec": {
   "display_name": "Python 3",
   "language": "python",
   "name": "python3"
  },
  "language_info": {
   "codemirror_mode": {
    "name": "ipython",
    "version": 3
   },
   "file_extension": ".py",
   "mimetype": "text/x-python",
   "name": "python",
   "nbconvert_exporter": "python",
   "pygments_lexer": "ipython3",
   "version": "3.6.5"
  }
 },
 "nbformat": 4,
 "nbformat_minor": 2
}
