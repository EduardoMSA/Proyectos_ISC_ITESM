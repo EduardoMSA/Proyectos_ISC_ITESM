{
 "cells": [
  {
   "cell_type": "code",
   "execution_count": 2,
   "metadata": {},
   "outputs": [
    {
     "name": "stdout",
     "output_type": "stream",
     "text": [
      "12\n"
     ]
    }
   ],
   "source": [
    "#Eduardo Méndez\n",
    "#A01632947\n",
    "#Complejidad = O((n^2 - n)/2) -> O(n^2)\n",
    "\n",
    "def maxMult(lista):\n",
    "    max = 0\n",
    "    for x in range(len(lista)):\n",
    "        for y in range(x+1,len(lista)):\n",
    "            tmp = lista[x] * lista[y]\n",
    "            if(tmp>max):\n",
    "                max=tmp\n",
    "    return max\n",
    "\n",
    "lista = [2,3,4]\n",
    "print(maxMult(lista))"
   ]
  },
  {
   "cell_type": "code",
   "execution_count": null,
   "metadata": {},
   "outputs": [],
   "source": []
  }
 ],
 "metadata": {
  "kernelspec": {
   "display_name": "Python 3",
   "language": "python",
   "name": "python3"
  },
  "language_info": {
   "codemirror_mode": {
    "name": "ipython",
    "version": 3
   },
   "file_extension": ".py",
   "mimetype": "text/x-python",
   "name": "python",
   "nbconvert_exporter": "python",
   "pygments_lexer": "ipython3",
   "version": "3.6.5"
  }
 },
 "nbformat": 4,
 "nbformat_minor": 2
}
