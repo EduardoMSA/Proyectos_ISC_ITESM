{
 "cells": [
  {
   "cell_type": "code",
   "execution_count": 6,
   "metadata": {},
   "outputs": [
    {
     "name": "stdout",
     "output_type": "stream",
     "text": [
      "4\n",
      "1\n",
      "2\n",
      "3\n",
      "4\n",
      "1680\n"
     ]
    }
   ],
   "source": [
    "matrix = [[0 for x in range(1001)] for y in range(1001)]\n",
    "mod = 1000000007\n",
    "\n",
    "def pascal():\n",
    "    matrix[0][0]=1;\n",
    "    for i in range(1001):\n",
    "        for j in range(1001):\n",
    "            if j==0 or j==i:\n",
    "                matrix[i][j]=1\n",
    "            else:\n",
    "                matrix[i][j] = (matrix[i-1][j-1]+matrix[i-1][j])%mod\n",
    "\n",
    "a = int(input())\n",
    "b = []\n",
    "for i in range(a):\n",
    "    b.append(int(input()))\n",
    "pascal()\n",
    "r = 1\n",
    "s = b[0]\n",
    "for i in range(1,a):\n",
    "    r = (r*matrix[s + b[i]-1][b[i]-1])%mod\n",
    "    s += b[i]\n",
    "print(r)\n",
    "\n"
   ]
  }
 ],
 "metadata": {
  "kernelspec": {
   "display_name": "Python 3",
   "language": "python",
   "name": "python3"
  },
  "language_info": {
   "codemirror_mode": {
    "name": "ipython",
    "version": 3
   },
   "file_extension": ".py",
   "mimetype": "text/x-python",
   "name": "python",
   "nbconvert_exporter": "python",
   "pygments_lexer": "ipython3",
   "version": "3.6.5"
  }
 },
 "nbformat": 4,
 "nbformat_minor": 2
}
