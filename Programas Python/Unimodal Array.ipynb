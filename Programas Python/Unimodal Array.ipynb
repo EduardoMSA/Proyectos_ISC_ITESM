{
 "cells": [
  {
   "cell_type": "code",
   "execution_count": 48,
   "metadata": {},
   "outputs": [
    {
     "name": "stdout",
     "output_type": "stream",
     "text": [
      "5\n",
      "5 5 7 7 1\n",
      "NO\n"
     ]
    }
   ],
   "source": [
    "def unimodal(a):\n",
    "    i = a.index(max(a))\n",
    "    incr = a[:i]\n",
    "    decr = a[i:]\n",
    "    m = 0\n",
    "    while m<len(decr) and decr[m]==max(a):\n",
    "        m+=1  \n",
    "    const = decr[:m]\n",
    "    decr = decr[m:]\n",
    "    for n in range(len(incr)-1):\n",
    "        if incr[n]>=incr[n+1]:\n",
    "            return \"NO\"\n",
    "    for n in range(len(decr)-1):\n",
    "        if decr[n]<=decr[n+1]:\n",
    "            return \"NO\"\n",
    "    return \"YES\"\n",
    "\n",
    "\n",
    "size = input()\n",
    "a = input()\n",
    "b = a.split()\n",
    "\n",
    "print(unimodal(list(map(int,b))))"
   ]
  },
  {
   "cell_type": "code",
   "execution_count": null,
   "metadata": {},
   "outputs": [],
   "source": []
  },
  {
   "cell_type": "code",
   "execution_count": null,
   "metadata": {},
   "outputs": [],
   "source": []
  }
 ],
 "metadata": {
  "kernelspec": {
   "display_name": "Python 3",
   "language": "python",
   "name": "python3"
  },
  "language_info": {
   "codemirror_mode": {
    "name": "ipython",
    "version": 3
   },
   "file_extension": ".py",
   "mimetype": "text/x-python",
   "name": "python",
   "nbconvert_exporter": "python",
   "pygments_lexer": "ipython3",
   "version": "3.6.5"
  }
 },
 "nbformat": 4,
 "nbformat_minor": 2
}
