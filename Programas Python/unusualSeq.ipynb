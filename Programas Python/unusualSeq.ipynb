{
 "cells": [
  {
   "cell_type": "code",
   "execution_count": 26,
   "metadata": {},
   "outputs": [
    {
     "name": "stdout",
     "output_type": "stream",
     "text": [
      "5 8\n",
      "0\n"
     ]
    }
   ],
   "source": [
    "def gcd(n1, n2):\n",
    "    if n2 == 0:\n",
    "        return int(n1)\n",
    "    else:\n",
    "        return gcd(n2, n1%n2)\n",
    "\n",
    "def unusualSeq(n1, n2):\n",
    "    mult = gcd(n1,n2)\n",
    "    results = []\n",
    "    valor = [0]\n",
    "    while min(valor)==mult:\n",
    "        if sum(valor)<n2:\n",
    "            \n",
    "            \n",
    "            \n",
    "    \n",
    "        \n",
    "        \n",
    "        \n",
    "    \n",
    "        \n",
    "\n",
    "a = input()\n",
    "b = a.split()\n",
    "unusualSeq(int(b[0]),int(b[1]))\n",
    "    \n",
    "        "
   ]
  },
  {
   "cell_type": "code",
   "execution_count": 28,
   "metadata": {},
   "outputs": [
    {
     "name": "stdout",
     "output_type": "stream",
     "text": [
      "5\n"
     ]
    }
   ],
   "source": [
    "lista = [2,5,1]\n",
    "print(max(lista))"
   ]
  },
  {
   "cell_type": "code",
   "execution_count": null,
   "metadata": {},
   "outputs": [],
   "source": []
  }
 ],
 "metadata": {
  "kernelspec": {
   "display_name": "Python 3",
   "language": "python",
   "name": "python3"
  },
  "language_info": {
   "codemirror_mode": {
    "name": "ipython",
    "version": 3
   },
   "file_extension": ".py",
   "mimetype": "text/x-python",
   "name": "python",
   "nbconvert_exporter": "python",
   "pygments_lexer": "ipython3",
   "version": "3.6.5"
  }
 },
 "nbformat": 4,
 "nbformat_minor": 2
}
