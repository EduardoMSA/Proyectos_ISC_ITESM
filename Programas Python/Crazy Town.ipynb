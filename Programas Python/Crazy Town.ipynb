{
 "cells": [
  {
   "cell_type": "code",
   "execution_count": 4,
   "metadata": {},
   "outputs": [
    {
     "name": "stdout",
     "output_type": "stream",
     "text": [
      "1 1\n",
      "-1 -1\n",
      "3\n",
      "1 0 0\n",
      "0 1 0\n",
      "1 1 -3\n",
      "2\n"
     ]
    }
   ],
   "source": [
    "def getToU(hauseX, hauseY, uX, uY):\n",
    "    nOfRoads = int(input())\n",
    "    moves = 0\n",
    "    for i in range(nOfRoads):\n",
    "        road = list(map(int,input().split()))\n",
    "        s = road[0]*hauseX + road[1]* hauseY + road[2]\n",
    "        e = road[0]*uX + road[1]* uY + road[2]\n",
    "        if(s>0 and e<0)or(s<0 and e>0):\n",
    "            moves+=1\n",
    "    return moves\n",
    "\n",
    "hause = list(map(int,input().split()))\n",
    "university = list(map(int,input().split()))\n",
    "print(getToU(hause[0], hause[1], university[0], university[1]))\n",
    "    "
   ]
  },
  {
   "cell_type": "code",
   "execution_count": null,
   "metadata": {},
   "outputs": [],
   "source": []
  },
  {
   "cell_type": "code",
   "execution_count": null,
   "metadata": {},
   "outputs": [],
   "source": []
  }
 ],
 "metadata": {
  "kernelspec": {
   "display_name": "Python 3",
   "language": "python",
   "name": "python3"
  },
  "language_info": {
   "codemirror_mode": {
    "name": "ipython",
    "version": 3
   },
   "file_extension": ".py",
   "mimetype": "text/x-python",
   "name": "python",
   "nbconvert_exporter": "python",
   "pygments_lexer": "ipython3",
   "version": "3.6.5"
  }
 },
 "nbformat": 4,
 "nbformat_minor": 2
}
