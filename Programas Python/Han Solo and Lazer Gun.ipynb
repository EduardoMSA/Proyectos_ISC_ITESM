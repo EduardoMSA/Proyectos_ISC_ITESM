{
 "cells": [
  {
   "cell_type": "code",
   "execution_count": 46,
   "metadata": {},
   "outputs": [
    {
     "name": "stdout",
     "output_type": "stream",
     "text": [
      "2 1 2\n",
      "1 1\n",
      "1 0\n",
      "1\n"
     ]
    }
   ],
   "source": [
    "from collections import defaultdict\n",
    "a = input().split()\n",
    "direcciones = defaultdict(lambda: 0)\n",
    "ejex = 0\n",
    "ejey = 0\n",
    "cuenta = 0\n",
    "for i in range(int(a[0])):\n",
    "    b = input().split()\n",
    "    if int(a[1])==int(b[0]):\n",
    "        ejex = 1\n",
    "        continue\n",
    "    if int(a[2])==int(b[1]):\n",
    "        ejey = 1\n",
    "        continue\n",
    "    angle = (int(b[1])-int(a[2]))/(int(b[0])-int(a[1]))\n",
    "    if direcciones[angle]!=1:\n",
    "        cuenta+=1\n",
    "        direcciones[angle]=1\n",
    "print(cuenta + ejex + ejey)\n",
    "    \n",
    "\n"
   ]
  }
 ],
 "metadata": {
  "kernelspec": {
   "display_name": "Python 3",
   "language": "python",
   "name": "python3"
  },
  "language_info": {
   "codemirror_mode": {
    "name": "ipython",
    "version": 3
   },
   "file_extension": ".py",
   "mimetype": "text/x-python",
   "name": "python",
   "nbconvert_exporter": "python",
   "pygments_lexer": "ipython3",
   "version": "3.6.5"
  }
 },
 "nbformat": 4,
 "nbformat_minor": 2
}
